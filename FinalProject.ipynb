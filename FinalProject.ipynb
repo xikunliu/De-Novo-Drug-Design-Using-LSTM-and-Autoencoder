{
  "nbformat": 4,
  "nbformat_minor": 0,
  "metadata": {
    "colab": {
      "name": "FinalProject.ipynb",
      "provenance": [],
      "collapsed_sections": []
    },
    "kernelspec": {
      "name": "python3",
      "display_name": "Python 3"
    },
    "accelerator": "GPU"
  },
  "cells": [
    {
      "cell_type": "code",
      "metadata": {
        "colab": {
          "base_uri": "https://localhost:8080/",
          "height": 0
        },
        "id": "x6ADZAGGvOze",
        "outputId": "3ea1b5f7-a9a6-4655-ca82-a00c747ecab1"
      },
      "source": [
        "#@title\n",
        "# Check pytorch version and make sure you use a GPU Kernel\n",
        "!python -c \"import torch; print(torch.__version__)\"\n",
        "!python -c \"import torch; print(torch.version.cuda)\"\n",
        "!python --version\n",
        "!nvidia-smi"
      ],
      "execution_count": 1,
      "outputs": [
        {
          "output_type": "stream",
          "text": [
            "1.8.0+cu101\n",
            "10.1\n",
            "Python 3.7.10\n",
            "Wed Mar 17 17:29:55 2021       \n",
            "+-----------------------------------------------------------------------------+\n",
            "| NVIDIA-SMI 460.56       Driver Version: 460.32.03    CUDA Version: 11.2     |\n",
            "|-------------------------------+----------------------+----------------------+\n",
            "| GPU  Name        Persistence-M| Bus-Id        Disp.A | Volatile Uncorr. ECC |\n",
            "| Fan  Temp  Perf  Pwr:Usage/Cap|         Memory-Usage | GPU-Util  Compute M. |\n",
            "|                               |                      |               MIG M. |\n",
            "|===============================+======================+======================|\n",
            "|   0  Tesla T4            Off  | 00000000:00:04.0 Off |                    0 |\n",
            "| N/A   59C    P8    11W /  70W |      0MiB / 15109MiB |      0%      Default |\n",
            "|                               |                      |                  N/A |\n",
            "+-------------------------------+----------------------+----------------------+\n",
            "                                                                               \n",
            "+-----------------------------------------------------------------------------+\n",
            "| Processes:                                                                  |\n",
            "|  GPU   GI   CI        PID   Type   Process name                  GPU Memory |\n",
            "|        ID   ID                                                   Usage      |\n",
            "|=============================================================================|\n",
            "|  No running processes found                                                 |\n",
            "+-----------------------------------------------------------------------------+\n"
          ],
          "name": "stdout"
        }
      ]
    },
    {
      "cell_type": "code",
      "metadata": {
        "colab": {
          "base_uri": "https://localhost:8080/",
          "height": 0
        },
        "id": "ykPDtnI_j9Fu",
        "outputId": "a9254041-6dfb-47fa-be88-90d6caa45e02"
      },
      "source": [
        "#@title\n",
        "# Install rdkit\n",
        "import sys\n",
        "import os\n",
        "import requests\n",
        "import subprocess\n",
        "import shutil\n",
        "from logging import getLogger, StreamHandler, INFO\n",
        "\n",
        "\n",
        "logger = getLogger(__name__)\n",
        "logger.addHandler(StreamHandler())\n",
        "logger.setLevel(INFO)\n",
        "\n",
        "\n",
        "def install(\n",
        "        chunk_size=4096,\n",
        "        file_name=\"Miniconda3-latest-Linux-x86_64.sh\",\n",
        "        url_base=\"https://repo.continuum.io/miniconda/\",\n",
        "        conda_path=os.path.expanduser(os.path.join(\"~\", \"miniconda\")),\n",
        "        rdkit_version=None,\n",
        "        add_python_path=True,\n",
        "        force=False):\n",
        "    \"\"\"install rdkit from miniconda\n",
        "    ```\n",
        "    import rdkit_installer\n",
        "    rdkit_installer.install()\n",
        "    ```\n",
        "    \"\"\"\n",
        "\n",
        "    python_path = os.path.join(\n",
        "        conda_path,\n",
        "        \"lib\",\n",
        "        \"python{0}.{1}\".format(*sys.version_info),\n",
        "        \"site-packages\",\n",
        "    )\n",
        "\n",
        "    if add_python_path and python_path not in sys.path:\n",
        "        logger.info(\"add {} to PYTHONPATH\".format(python_path))\n",
        "        sys.path.append(python_path)\n",
        "\n",
        "    if os.path.isdir(os.path.join(python_path, \"rdkit\")):\n",
        "        logger.info(\"rdkit is already installed\")\n",
        "        if not force:\n",
        "            return\n",
        "\n",
        "        logger.info(\"force re-install\")\n",
        "\n",
        "    url = url_base + file_name\n",
        "    python_version = \"{0}.{1}.{2}\".format(*sys.version_info)\n",
        "\n",
        "    logger.info(\"python version: {}\".format(python_version))\n",
        "\n",
        "    if os.path.isdir(conda_path):\n",
        "        logger.warning(\"remove current miniconda\")\n",
        "        shutil.rmtree(conda_path)\n",
        "    elif os.path.isfile(conda_path):\n",
        "        logger.warning(\"remove {}\".format(conda_path))\n",
        "        os.remove(conda_path)\n",
        "\n",
        "    logger.info('fetching installer from {}'.format(url))\n",
        "    res = requests.get(url, stream=True)\n",
        "    res.raise_for_status()\n",
        "    with open(file_name, 'wb') as f:\n",
        "        for chunk in res.iter_content(chunk_size):\n",
        "            f.write(chunk)\n",
        "    logger.info('done')\n",
        "\n",
        "    logger.info('installing miniconda to {}'.format(conda_path))\n",
        "    subprocess.check_call([\"bash\", file_name, \"-b\", \"-p\", conda_path])\n",
        "    logger.info('done')\n",
        "\n",
        "    logger.info(\"installing rdkit\")\n",
        "    subprocess.check_call([\n",
        "        os.path.join(conda_path, \"bin\", \"conda\"),\n",
        "        \"install\",\n",
        "        \"--yes\",\n",
        "        \"-c\", \"rdkit\",\n",
        "        \"python=={}\".format(python_version),\n",
        "        \"rdkit\" if rdkit_version is None else \"rdkit=={}\".format(rdkit_version)])\n",
        "    logger.info(\"done\")\n",
        "\n",
        "    import rdkit\n",
        "    logger.info(\"rdkit-{} installation finished!\".format(rdkit.__version__))\n",
        "\n",
        "\n",
        "if __name__ == \"__main__\":\n",
        "    install()"
      ],
      "execution_count": 2,
      "outputs": [
        {
          "output_type": "stream",
          "text": [
            "add /root/miniconda/lib/python3.7/site-packages to PYTHONPATH\n",
            "python version: 3.7.10\n",
            "fetching installer from https://repo.continuum.io/miniconda/Miniconda3-latest-Linux-x86_64.sh\n",
            "done\n",
            "installing miniconda to /root/miniconda\n",
            "done\n",
            "installing rdkit\n",
            "done\n",
            "rdkit-2020.09.1 installation finished!\n"
          ],
          "name": "stderr"
        }
      ]
    },
    {
      "cell_type": "code",
      "metadata": {
        "colab": {
          "base_uri": "https://localhost:8080/",
          "height": 0
        },
        "id": "s3NhNLQTo5oS",
        "outputId": "e1697501-6eb6-472c-99bc-38b5f371fb1f"
      },
      "source": [
        "# If this breaks, you might want to change the CUDA version displayed above (make sure the Pytorch version installed matches the installs here)\n",
        " \n",
        "# Torch should already be installed\n",
        "!pip install --no-index torch-scatter -f https://pytorch-geometric.com/whl/torch-1.8.0+cu101.html\n",
        "!pip install --no-index torch-sparse -f https://pytorch-geometric.com/whl/torch-1.8.0+cu101.html\n",
        "!pip install --no-index torch-cluster -f https://pytorch-geometric.com/whl/torch-1.8.0+cu101.html\n",
        "!pip install --no-index torch-spline-conv -f https://pytorch-geometric.com/whl/torch-1.8.0+cu101.html\n",
        "!pip install torch-geometric"
      ],
      "execution_count": 3,
      "outputs": [
        {
          "output_type": "stream",
          "text": [
            "Looking in links: https://pytorch-geometric.com/whl/torch-1.8.0+cu101.html\n",
            "Collecting torch-scatter\n",
            "\u001b[?25l  Downloading https://pytorch-geometric.com/whl/torch-1.8.0%2Bcu101/torch_scatter-2.0.6-cp37-cp37m-linux_x86_64.whl (2.5MB)\n",
            "\u001b[K     |████████████████████████████████| 2.6MB 12.4MB/s \n",
            "\u001b[?25hInstalling collected packages: torch-scatter\n",
            "Successfully installed torch-scatter-2.0.6\n",
            "Looking in links: https://pytorch-geometric.com/whl/torch-1.8.0+cu101.html\n",
            "Collecting torch-sparse\n",
            "\u001b[?25l  Downloading https://pytorch-geometric.com/whl/torch-1.8.0%2Bcu101/torch_sparse-0.6.9-cp37-cp37m-linux_x86_64.whl (1.5MB)\n",
            "\u001b[K     |████████████████████████████████| 1.5MB 19.8MB/s \n",
            "\u001b[?25hRequirement already satisfied: scipy in /usr/local/lib/python3.7/dist-packages (from torch-sparse) (1.4.1)\n",
            "Requirement already satisfied: numpy>=1.13.3 in /usr/local/lib/python3.7/dist-packages (from scipy->torch-sparse) (1.19.5)\n",
            "Installing collected packages: torch-sparse\n",
            "Successfully installed torch-sparse-0.6.9\n",
            "Looking in links: https://pytorch-geometric.com/whl/torch-1.8.0+cu101.html\n",
            "Collecting torch-cluster\n",
            "\u001b[?25l  Downloading https://pytorch-geometric.com/whl/torch-1.8.0%2Bcu101/torch_cluster-1.5.9-cp37-cp37m-linux_x86_64.whl (1.0MB)\n",
            "\u001b[K     |████████████████████████████████| 1.0MB 33.2MB/s \n",
            "\u001b[?25hInstalling collected packages: torch-cluster\n",
            "Successfully installed torch-cluster-1.5.9\n",
            "Looking in links: https://pytorch-geometric.com/whl/torch-1.8.0+cu101.html\n",
            "Collecting torch-spline-conv\n",
            "\u001b[?25l  Downloading https://pytorch-geometric.com/whl/torch-1.8.0%2Bcu101/torch_spline_conv-1.2.1-cp37-cp37m-linux_x86_64.whl (386kB)\n",
            "\u001b[K     |████████████████████████████████| 389kB 21.4MB/s \n",
            "\u001b[?25hInstalling collected packages: torch-spline-conv\n",
            "Successfully installed torch-spline-conv-1.2.1\n",
            "Collecting torch-geometric\n",
            "\u001b[?25l  Downloading https://files.pythonhosted.org/packages/59/5c/3e95b76321fb14f24cc2ace392075717f645c4632e796ee0db1bc7d17231/torch_geometric-1.6.3.tar.gz (186kB)\n",
            "\u001b[K     |████████████████████████████████| 194kB 20.3MB/s \n",
            "\u001b[?25hRequirement already satisfied: torch in /usr/local/lib/python3.7/dist-packages (from torch-geometric) (1.8.0+cu101)\n",
            "Requirement already satisfied: numpy in /usr/local/lib/python3.7/dist-packages (from torch-geometric) (1.19.5)\n",
            "Requirement already satisfied: tqdm in /usr/local/lib/python3.7/dist-packages (from torch-geometric) (4.41.1)\n",
            "Requirement already satisfied: scipy in /usr/local/lib/python3.7/dist-packages (from torch-geometric) (1.4.1)\n",
            "Requirement already satisfied: networkx in /usr/local/lib/python3.7/dist-packages (from torch-geometric) (2.5)\n",
            "Requirement already satisfied: python-louvain in /usr/local/lib/python3.7/dist-packages (from torch-geometric) (0.15)\n",
            "Requirement already satisfied: scikit-learn in /usr/local/lib/python3.7/dist-packages (from torch-geometric) (0.22.2.post1)\n",
            "Requirement already satisfied: numba in /usr/local/lib/python3.7/dist-packages (from torch-geometric) (0.51.2)\n",
            "Requirement already satisfied: requests in /usr/local/lib/python3.7/dist-packages (from torch-geometric) (2.23.0)\n",
            "Requirement already satisfied: pandas in /usr/local/lib/python3.7/dist-packages (from torch-geometric) (1.1.5)\n",
            "Collecting rdflib\n",
            "\u001b[?25l  Downloading https://files.pythonhosted.org/packages/d0/6b/6454aa1db753c0f8bc265a5bd5c10b5721a4bb24160fb4faf758cf6be8a1/rdflib-5.0.0-py3-none-any.whl (231kB)\n",
            "\u001b[K     |████████████████████████████████| 235kB 46.2MB/s \n",
            "\u001b[?25hRequirement already satisfied: h5py in /usr/local/lib/python3.7/dist-packages (from torch-geometric) (2.10.0)\n",
            "Requirement already satisfied: googledrivedownloader in /usr/local/lib/python3.7/dist-packages (from torch-geometric) (0.4)\n",
            "Collecting ase\n",
            "\u001b[?25l  Downloading https://files.pythonhosted.org/packages/a5/36/de17e79f29e06d9a92746d0dd9ec4636487ab03f6af10e78586aae533f7a/ase-3.21.1-py3-none-any.whl (2.2MB)\n",
            "\u001b[K     |████████████████████████████████| 2.2MB 33.4MB/s \n",
            "\u001b[?25hRequirement already satisfied: jinja2 in /usr/local/lib/python3.7/dist-packages (from torch-geometric) (2.11.3)\n",
            "Requirement already satisfied: typing-extensions in /usr/local/lib/python3.7/dist-packages (from torch->torch-geometric) (3.7.4.3)\n",
            "Requirement already satisfied: decorator>=4.3.0 in /usr/local/lib/python3.7/dist-packages (from networkx->torch-geometric) (4.4.2)\n",
            "Requirement already satisfied: joblib>=0.11 in /usr/local/lib/python3.7/dist-packages (from scikit-learn->torch-geometric) (1.0.1)\n",
            "Requirement already satisfied: setuptools in /usr/local/lib/python3.7/dist-packages (from numba->torch-geometric) (54.0.0)\n",
            "Requirement already satisfied: llvmlite<0.35,>=0.34.0.dev0 in /usr/local/lib/python3.7/dist-packages (from numba->torch-geometric) (0.34.0)\n",
            "Requirement already satisfied: idna<3,>=2.5 in /usr/local/lib/python3.7/dist-packages (from requests->torch-geometric) (2.10)\n",
            "Requirement already satisfied: urllib3!=1.25.0,!=1.25.1,<1.26,>=1.21.1 in /usr/local/lib/python3.7/dist-packages (from requests->torch-geometric) (1.24.3)\n",
            "Requirement already satisfied: certifi>=2017.4.17 in /usr/local/lib/python3.7/dist-packages (from requests->torch-geometric) (2020.12.5)\n",
            "Requirement already satisfied: chardet<4,>=3.0.2 in /usr/local/lib/python3.7/dist-packages (from requests->torch-geometric) (3.0.4)\n",
            "Requirement already satisfied: pytz>=2017.2 in /usr/local/lib/python3.7/dist-packages (from pandas->torch-geometric) (2018.9)\n",
            "Requirement already satisfied: python-dateutil>=2.7.3 in /usr/local/lib/python3.7/dist-packages (from pandas->torch-geometric) (2.8.1)\n",
            "Requirement already satisfied: six in /usr/local/lib/python3.7/dist-packages (from rdflib->torch-geometric) (1.15.0)\n",
            "Collecting isodate\n",
            "\u001b[?25l  Downloading https://files.pythonhosted.org/packages/9b/9f/b36f7774ff5ea8e428fdcfc4bb332c39ee5b9362ddd3d40d9516a55221b2/isodate-0.6.0-py2.py3-none-any.whl (45kB)\n",
            "\u001b[K     |████████████████████████████████| 51kB 8.9MB/s \n",
            "\u001b[?25hRequirement already satisfied: pyparsing in /usr/local/lib/python3.7/dist-packages (from rdflib->torch-geometric) (2.4.7)\n",
            "Requirement already satisfied: matplotlib>=2.0.0 in /usr/local/lib/python3.7/dist-packages (from ase->torch-geometric) (3.2.2)\n",
            "Requirement already satisfied: MarkupSafe>=0.23 in /usr/local/lib/python3.7/dist-packages (from jinja2->torch-geometric) (1.1.1)\n",
            "Requirement already satisfied: cycler>=0.10 in /usr/local/lib/python3.7/dist-packages (from matplotlib>=2.0.0->ase->torch-geometric) (0.10.0)\n",
            "Requirement already satisfied: kiwisolver>=1.0.1 in /usr/local/lib/python3.7/dist-packages (from matplotlib>=2.0.0->ase->torch-geometric) (1.3.1)\n",
            "Building wheels for collected packages: torch-geometric\n",
            "  Building wheel for torch-geometric (setup.py) ... \u001b[?25l\u001b[?25hdone\n",
            "  Created wheel for torch-geometric: filename=torch_geometric-1.6.3-cp37-none-any.whl size=322719 sha256=3fa8d8495281f9fb253b709b998a76cdfee2c2edfaa7548500adf4ec73b9af4c\n",
            "  Stored in directory: /root/.cache/pip/wheels/6d/47/1e/0af8ce3e21783c3e584c22502011a3367c091694eebc50a971\n",
            "Successfully built torch-geometric\n",
            "Installing collected packages: isodate, rdflib, ase, torch-geometric\n",
            "Successfully installed ase-3.21.1 isodate-0.6.0 rdflib-5.0.0 torch-geometric-1.6.3\n"
          ],
          "name": "stdout"
        }
      ]
    },
    {
      "cell_type": "code",
      "metadata": {
        "colab": {
          "base_uri": "https://localhost:8080/",
          "height": 0
        },
        "id": "v30zmrkRkRjH",
        "outputId": "9e0b96c2-00e8-485f-8a50-5d7ff5294e51"
      },
      "source": [
        "import rdkit\n",
        "from torch_geometric.datasets import MoleculeNet\n",
        "\n",
        "# Load the ESOL dataset\n",
        "data = MoleculeNet(root=\".\", name=\"ESOL\")\n",
        "data"
      ],
      "execution_count": 4,
      "outputs": [
        {
          "output_type": "stream",
          "text": [
            "Downloading https://deepchemdata.s3-us-west-1.amazonaws.com/datasets/delaney-processed.csv\n",
            "Processing...\n",
            "Done!\n"
          ],
          "name": "stdout"
        },
        {
          "output_type": "execute_result",
          "data": {
            "text/plain": [
              "ESOL(1128)"
            ]
          },
          "metadata": {
            "tags": []
          },
          "execution_count": 4
        }
      ]
    },
    {
      "cell_type": "code",
      "metadata": {
        "id": "mrPEXKnGka33",
        "colab": {
          "base_uri": "https://localhost:8080/",
          "height": 0
        },
        "outputId": "ffa856d9-16e5-46c7-fb72-168e2343913f"
      },
      "source": [
        "# Investigating the dataset\n",
        "print(\"Dataset type: \", type(data))\n",
        "print(\"Dataset features: \", data.num_features)\n",
        "print(\"Dataset target: \", data.num_classes)\n",
        "print(\"Dataset length: \", data.len)\n",
        "print(\"Dataset sample: \", data[110])\n",
        "print(\"Sample  nodes: \", data[0].num_nodes)\n",
        "print(\"Sample  edges: \", data[0].num_edges)\n",
        "\n",
        "# edge_index = graph connections\n",
        "# smiles = molecule with its atoms\n",
        "# x = node features (32 nodes have each 9 features)\n",
        "# y = labels (dimension)"
      ],
      "execution_count": 5,
      "outputs": [
        {
          "output_type": "stream",
          "text": [
            "Dataset type:  <class 'torch_geometric.datasets.molecule_net.MoleculeNet'>\n",
            "Dataset features:  9\n",
            "Dataset target:  1\n",
            "Dataset length:  <bound method InMemoryDataset.len of ESOL(1128)>\n",
            "Dataset sample:  Data(edge_attr=[22, 3], edge_index=[2, 22], smiles=\"Oc1c(I)cc(C#N)cc1I\", x=[11, 9], y=[1, 1])\n",
            "Sample  nodes:  32\n",
            "Sample  edges:  68\n"
          ],
          "name": "stdout"
        }
      ]
    },
    {
      "cell_type": "code",
      "metadata": {
        "id": "GY2uGwzLkp_J",
        "colab": {
          "base_uri": "https://localhost:8080/",
          "height": 0
        },
        "outputId": "2cb861d6-6a75-4933-c630-fcd553df86df"
      },
      "source": [
        "# Investigating the features\n",
        "# Shape: [num_nodes, num_node_features]\n",
        "data[0].x"
      ],
      "execution_count": 6,
      "outputs": [
        {
          "output_type": "execute_result",
          "data": {
            "text/plain": [
              "tensor([[8, 0, 2, 5, 1, 0, 4, 0, 0],\n",
              "        [6, 0, 4, 5, 2, 0, 4, 0, 0],\n",
              "        [6, 0, 4, 5, 1, 0, 4, 0, 1],\n",
              "        [8, 0, 2, 5, 0, 0, 4, 0, 1],\n",
              "        [6, 0, 4, 5, 1, 0, 4, 0, 1],\n",
              "        [8, 0, 2, 5, 0, 0, 4, 0, 0],\n",
              "        [6, 0, 4, 5, 2, 0, 4, 0, 0],\n",
              "        [6, 0, 4, 5, 1, 0, 4, 0, 1],\n",
              "        [8, 0, 2, 5, 0, 0, 4, 0, 1],\n",
              "        [6, 0, 4, 5, 1, 0, 4, 0, 1],\n",
              "        [8, 0, 2, 5, 0, 0, 4, 0, 0],\n",
              "        [6, 0, 4, 5, 1, 0, 4, 0, 0],\n",
              "        [6, 0, 2, 5, 0, 0, 2, 0, 0],\n",
              "        [7, 0, 1, 5, 0, 0, 2, 0, 0],\n",
              "        [6, 0, 3, 5, 0, 0, 3, 1, 1],\n",
              "        [6, 0, 3, 5, 1, 0, 3, 1, 1],\n",
              "        [6, 0, 3, 5, 1, 0, 3, 1, 1],\n",
              "        [6, 0, 3, 5, 1, 0, 3, 1, 1],\n",
              "        [6, 0, 3, 5, 1, 0, 3, 1, 1],\n",
              "        [6, 0, 3, 5, 1, 0, 3, 1, 1],\n",
              "        [6, 0, 4, 5, 1, 0, 4, 0, 1],\n",
              "        [8, 0, 2, 5, 1, 0, 4, 0, 0],\n",
              "        [6, 0, 4, 5, 1, 0, 4, 0, 1],\n",
              "        [8, 0, 2, 5, 1, 0, 4, 0, 0],\n",
              "        [6, 0, 4, 5, 1, 0, 4, 0, 1],\n",
              "        [8, 0, 2, 5, 1, 0, 4, 0, 0],\n",
              "        [6, 0, 4, 5, 1, 0, 4, 0, 1],\n",
              "        [8, 0, 2, 5, 1, 0, 4, 0, 0],\n",
              "        [6, 0, 4, 5, 1, 0, 4, 0, 1],\n",
              "        [8, 0, 2, 5, 1, 0, 4, 0, 0],\n",
              "        [6, 0, 4, 5, 1, 0, 4, 0, 1],\n",
              "        [8, 0, 2, 5, 1, 0, 4, 0, 0]])"
            ]
          },
          "metadata": {
            "tags": []
          },
          "execution_count": 6
        }
      ]
    },
    {
      "cell_type": "code",
      "metadata": {
        "id": "KGwUtKgFmj9K",
        "colab": {
          "base_uri": "https://localhost:8080/",
          "height": 0
        },
        "outputId": "535b594e-4a55-40ab-d6e9-4621fc91bd4e"
      },
      "source": [
        "# Investigating the edges in sparse COO format\n",
        "# Shape [2, num_edges]\n",
        "data[0].num_features"
      ],
      "execution_count": 7,
      "outputs": [
        {
          "output_type": "execute_result",
          "data": {
            "text/plain": [
              "9"
            ]
          },
          "metadata": {
            "tags": []
          },
          "execution_count": 7
        }
      ]
    },
    {
      "cell_type": "code",
      "metadata": {
        "colab": {
          "base_uri": "https://localhost:8080/",
          "height": 184
        },
        "id": "t03sij_9qXVJ",
        "outputId": "42ea022b-60e2-4a1a-d749-13baea948b28"
      },
      "source": [
        "# plot one molecule from the database using rdkit\n",
        "from rdkit import Chem\n",
        "from rdkit.Chem.Draw import IPythonConsole\n",
        "molecule = Chem.MolFromSmiles(data[2][\"smiles\"])\n",
        "print(data[2][\"smiles\"])\n",
        "molecule"
      ],
      "execution_count": 8,
      "outputs": [
        {
          "output_type": "stream",
          "text": [
            "CC(C)=CCCC(C)=CC(=O)\n"
          ],
          "name": "stdout"
        },
        {
          "output_type": "execute_result",
          "data": {
            "image/png": "[encoded data removed]",
            "text/plain": [
              "<rdkit.Chem.rdchem.Mol at 0x7f6ec4a7c350>"
            ]
          },
          "metadata": {
            "tags": []
          },
          "execution_count": 8
        }
      ]
    },
    {
      "cell_type": "code",
      "metadata": {
        "colab": {
          "base_uri": "https://localhost:8080/",
          "height": 0
        },
        "id": "omsQxFEdq5bl",
        "outputId": "f6003e00-254f-4454-8ad8-1979f4c58ffc"
      },
      "source": [
        "# Data Preparation for autoencoder\n",
        "#creat a list that contains all the character in the database\n",
        "import numpy as np\n",
        "from sklearn.preprocessing import OneHotEncoder\n",
        "allCharacter = []\n",
        "lengthOfSmiles = []\n",
        "for i in range(data.len()):\n",
        "  allCharacter.extend(list(data[i].smiles.strip()))\n",
        "  lengthOfSmiles.append(len(list(data[i].smiles.strip()))) \n",
        "\n",
        "TypeOfCharacter_noE = np.unique(allCharacter)\n",
        "TypeOfCharacter = np.append(TypeOfCharacter_noE,['E'])\n",
        "print(TypeOfCharacter)\n",
        "print(max(lengthOfSmiles),min(lengthOfSmiles), sum(lengthOfSmiles)/len(lengthOfSmiles))\n",
        "print(lengthOfSmiles.index(97))\n",
        "print(data[934].smiles)\n"
      ],
      "execution_count": 9,
      "outputs": [
        {
          "output_type": "stream",
          "text": [
            "['#' '(' ')' '/' '1' '2' '3' '4' '5' '6' '7' '8' '=' 'B' 'C' 'F' 'H' 'I'\n",
            " 'N' 'O' 'P' 'S' '[' '\\\\' ']' 'c' 'l' 'n' 'o' 'r' 's' 'E']\n",
            "97 1 22.32712765957447\n",
            "555\n",
            "C\n"
          ],
          "name": "stdout"
        }
      ]
    },
    {
      "cell_type": "code",
      "metadata": {
        "colab": {
          "base_uri": "https://localhost:8080/",
          "height": 0
        },
        "id": "JOTfVWiLrFKo",
        "outputId": "25ca457e-cfda-419a-e6ce-99055d0543a4"
      },
      "source": [
        "# Convert character to one hot encoding \n",
        "import numpy as np\n",
        "from sklearn.preprocessing import OneHotEncoder\n",
        "One_Hot_Enc = OneHotEncoder(sparse=False)\n",
        "X = np.array(TypeOfCharacter).reshape(TypeOfCharacter.shape[0],1)\n",
        "One_Hot_Enc.fit(X)\n",
        "\n",
        "test = One_Hot_Enc.transform(np.array([['#']]))\n",
        "print(test.shape)\n",
        "One_Hot_Enc.inverse_transform(np.zeros((1,TypeOfCharacter.shape[0])))\n"
      ],
      "execution_count": 8,
      "outputs": [
        {
          "output_type": "stream",
          "text": [
            "(1, 32)\n"
          ],
          "name": "stdout"
        },
        {
          "output_type": "execute_result",
          "data": {
            "text/plain": [
              "array([['#']], dtype='<U1')"
            ]
          },
          "metadata": {
            "tags": []
          },
          "execution_count": 8
        }
      ]
    },
    {
      "cell_type": "code",
      "metadata": {
        "colab": {
          "base_uri": "https://localhost:8080/",
          "height": 0
        },
        "id": "J0f_YtNcrRio",
        "outputId": "9d54e8fb-a0d2-4f85-b018-39762d500070"
      },
      "source": [
        "# Obtain the matrix size for autoencoder\n",
        "NumCharac = len(TypeOfCharacter)\n",
        "MaxLength = max(lengthOfSmiles)+1\n",
        "print(NumCharac)\n",
        "print(MaxLength)"
      ],
      "execution_count": 9,
      "outputs": [
        {
          "output_type": "stream",
          "text": [
            "32\n",
            "98\n"
          ],
          "name": "stdout"
        }
      ]
    },
    {
      "cell_type": "code",
      "metadata": {
        "id": "aQdTZmfhsKPf"
      },
      "source": [
        "def SmileToOneHot(smiles):\n",
        "  \"\"\"Input: smiles:a string of smile file\n",
        "     Output: max length of a smile file * Number of characters used in the smiles database in that database array + E in the end\n",
        "  \"\"\"\n",
        "  OneSmile = list(smiles.strip()+'E')\n",
        "  OneSmileArray = np.zeros((MaxLength,NumCharac))\n",
        "  for j in range(len(OneSmile)):\n",
        "    OneLetter = np.reshape(OneSmile[j],(-1,1))\n",
        "    OneLetterArray = One_Hot_Enc.transform(OneLetter).reshape(TypeOfCharacter.shape[0])\n",
        "    OneSmileArray[j,:] = OneLetterArray\n",
        "  return OneSmileArray"
      ],
      "execution_count": 10,
      "outputs": []
    },
    {
      "cell_type": "code",
      "metadata": {
        "id": "jFlsvinJsN6Q"
      },
      "source": [
        "def OneHotToSmile(OneSmileArray):\n",
        "  '''Input: a smile array of dimension Number of characters used in the smiles database * max length of a smile file\n",
        "     Output: a string of smile\n",
        "  '''\n",
        "  BackToSmile = ''\n",
        "  for k in range(OneSmileArray.shape[0]):\n",
        "    BackToSmile += One_Hot_Enc.inverse_transform(OneSmileArray[k,:].reshape(1,-1)).item()\n",
        "  index = BackToSmile.find('##') \n",
        "  BackToSmile = BackToSmile[:index]\n",
        "  for (index,letter) in enumerate(BackToSmile):\n",
        "    if letter =='E':\n",
        "      BackToSmile = BackToSmile[:index]\n",
        "      break\n",
        "  \n",
        "  return BackToSmile"
      ],
      "execution_count": 11,
      "outputs": []
    },
    {
      "cell_type": "code",
      "metadata": {
        "colab": {
          "base_uri": "https://localhost:8080/",
          "height": 0
        },
        "id": "SOtZl7SQsRA9",
        "outputId": "e3b4b248-461e-41db-d46e-14097c84ce0e"
      },
      "source": [
        "# test whether one hot encode/ transform works or not \n",
        "testArray=SmileToOneHot(data[0].smiles)\n",
        "smiles = OneHotToSmile(testArray)\n",
        "print(data[0].smiles)\n",
        "print(smiles)"
      ],
      "execution_count": 12,
      "outputs": [
        {
          "output_type": "stream",
          "text": [
            "OCC3OC(OCC2OC(OC(C#N)c1ccccc1)C(O)C(O)C2O)C(O)C(O)C3O \n",
            "OCC3OC(OCC2OC(OC(C#N)c1ccccc1)C(O)C(O)C2O)C(O)C(O)C3O\n"
          ],
          "name": "stdout"
        }
      ]
    },
    {
      "cell_type": "code",
      "metadata": {
        "colab": {
          "base_uri": "https://localhost:8080/"
        },
        "id": "7U9EFcHDDJ4W",
        "outputId": "da7ac63c-9873-4118-cc10-3a4fb6929709"
      },
      "source": [
        "# Visualize one hot encoding for one molecule\n",
        "np.set_printoptions(threshold=np.inf)\n",
        "print(SmileToOneHot(data[2][\"smiles\"]))\n",
        "np.set_printoptions(threshold=1000)"
      ],
      "execution_count": null,
      "outputs": [
        {
          "output_type": "stream",
          "text": [
            "[[0. 0. 0. 0. 0. 0. 0. 0. 0. 0. 0. 0. 0. 0. 1. 0. 0. 0. 0. 0. 0. 0. 0. 0.\n",
            "  0. 0. 0. 0. 0. 0. 0. 0.]\n",
            " [0. 0. 0. 0. 0. 0. 0. 0. 0. 0. 0. 0. 0. 0. 1. 0. 0. 0. 0. 0. 0. 0. 0. 0.\n",
            "  0. 0. 0. 0. 0. 0. 0. 0.]\n",
            " [0. 1. 0. 0. 0. 0. 0. 0. 0. 0. 0. 0. 0. 0. 0. 0. 0. 0. 0. 0. 0. 0. 0. 0.\n",
            "  0. 0. 0. 0. 0. 0. 0. 0.]\n",
            " [0. 0. 0. 0. 0. 0. 0. 0. 0. 0. 0. 0. 0. 0. 1. 0. 0. 0. 0. 0. 0. 0. 0. 0.\n",
            "  0. 0. 0. 0. 0. 0. 0. 0.]\n",
            " [0. 0. 1. 0. 0. 0. 0. 0. 0. 0. 0. 0. 0. 0. 0. 0. 0. 0. 0. 0. 0. 0. 0. 0.\n",
            "  0. 0. 0. 0. 0. 0. 0. 0.]\n",
            " [0. 0. 0. 0. 0. 0. 0. 0. 0. 0. 0. 0. 1. 0. 0. 0. 0. 0. 0. 0. 0. 0. 0. 0.\n",
            "  0. 0. 0. 0. 0. 0. 0. 0.]\n",
            " [0. 0. 0. 0. 0. 0. 0. 0. 0. 0. 0. 0. 0. 0. 1. 0. 0. 0. 0. 0. 0. 0. 0. 0.\n",
            "  0. 0. 0. 0. 0. 0. 0. 0.]\n",
            " [0. 0. 0. 0. 0. 0. 0. 0. 0. 0. 0. 0. 0. 0. 1. 0. 0. 0. 0. 0. 0. 0. 0. 0.\n",
            "  0. 0. 0. 0. 0. 0. 0. 0.]\n",
            " [0. 0. 0. 0. 0. 0. 0. 0. 0. 0. 0. 0. 0. 0. 1. 0. 0. 0. 0. 0. 0. 0. 0. 0.\n",
            "  0. 0. 0. 0. 0. 0. 0. 0.]\n",
            " [0. 0. 0. 0. 0. 0. 0. 0. 0. 0. 0. 0. 0. 0. 1. 0. 0. 0. 0. 0. 0. 0. 0. 0.\n",
            "  0. 0. 0. 0. 0. 0. 0. 0.]\n",
            " [0. 1. 0. 0. 0. 0. 0. 0. 0. 0. 0. 0. 0. 0. 0. 0. 0. 0. 0. 0. 0. 0. 0. 0.\n",
            "  0. 0. 0. 0. 0. 0. 0. 0.]\n",
            " [0. 0. 0. 0. 0. 0. 0. 0. 0. 0. 0. 0. 0. 0. 1. 0. 0. 0. 0. 0. 0. 0. 0. 0.\n",
            "  0. 0. 0. 0. 0. 0. 0. 0.]\n",
            " [0. 0. 1. 0. 0. 0. 0. 0. 0. 0. 0. 0. 0. 0. 0. 0. 0. 0. 0. 0. 0. 0. 0. 0.\n",
            "  0. 0. 0. 0. 0. 0. 0. 0.]\n",
            " [0. 0. 0. 0. 0. 0. 0. 0. 0. 0. 0. 0. 1. 0. 0. 0. 0. 0. 0. 0. 0. 0. 0. 0.\n",
            "  0. 0. 0. 0. 0. 0. 0. 0.]\n",
            " [0. 0. 0. 0. 0. 0. 0. 0. 0. 0. 0. 0. 0. 0. 1. 0. 0. 0. 0. 0. 0. 0. 0. 0.\n",
            "  0. 0. 0. 0. 0. 0. 0. 0.]\n",
            " [0. 0. 0. 0. 0. 0. 0. 0. 0. 0. 0. 0. 0. 0. 1. 0. 0. 0. 0. 0. 0. 0. 0. 0.\n",
            "  0. 0. 0. 0. 0. 0. 0. 0.]\n",
            " [0. 1. 0. 0. 0. 0. 0. 0. 0. 0. 0. 0. 0. 0. 0. 0. 0. 0. 0. 0. 0. 0. 0. 0.\n",
            "  0. 0. 0. 0. 0. 0. 0. 0.]\n",
            " [0. 0. 0. 0. 0. 0. 0. 0. 0. 0. 0. 0. 1. 0. 0. 0. 0. 0. 0. 0. 0. 0. 0. 0.\n",
            "  0. 0. 0. 0. 0. 0. 0. 0.]\n",
            " [0. 0. 0. 0. 0. 0. 0. 0. 0. 0. 0. 0. 0. 0. 0. 0. 0. 0. 0. 0. 1. 0. 0. 0.\n",
            "  0. 0. 0. 0. 0. 0. 0. 0.]\n",
            " [0. 0. 1. 0. 0. 0. 0. 0. 0. 0. 0. 0. 0. 0. 0. 0. 0. 0. 0. 0. 0. 0. 0. 0.\n",
            "  0. 0. 0. 0. 0. 0. 0. 0.]\n",
            " [0. 0. 0. 0. 0. 0. 0. 0. 0. 0. 0. 0. 0. 0. 0. 1. 0. 0. 0. 0. 0. 0. 0. 0.\n",
            "  0. 0. 0. 0. 0. 0. 0. 0.]\n",
            " [0. 0. 0. 0. 0. 0. 0. 0. 0. 0. 0. 0. 0. 0. 0. 0. 0. 0. 0. 0. 0. 0. 0. 0.\n",
            "  0. 0. 0. 0. 0. 0. 0. 0.]\n",
            " [0. 0. 0. 0. 0. 0. 0. 0. 0. 0. 0. 0. 0. 0. 0. 0. 0. 0. 0. 0. 0. 0. 0. 0.\n",
            "  0. 0. 0. 0. 0. 0. 0. 0.]\n",
            " [0. 0. 0. 0. 0. 0. 0. 0. 0. 0. 0. 0. 0. 0. 0. 0. 0. 0. 0. 0. 0. 0. 0. 0.\n",
            "  0. 0. 0. 0. 0. 0. 0. 0.]\n",
            " [0. 0. 0. 0. 0. 0. 0. 0. 0. 0. 0. 0. 0. 0. 0. 0. 0. 0. 0. 0. 0. 0. 0. 0.\n",
            "  0. 0. 0. 0. 0. 0. 0. 0.]\n",
            " [0. 0. 0. 0. 0. 0. 0. 0. 0. 0. 0. 0. 0. 0. 0. 0. 0. 0. 0. 0. 0. 0. 0. 0.\n",
            "  0. 0. 0. 0. 0. 0. 0. 0.]\n",
            " [0. 0. 0. 0. 0. 0. 0. 0. 0. 0. 0. 0. 0. 0. 0. 0. 0. 0. 0. 0. 0. 0. 0. 0.\n",
            "  0. 0. 0. 0. 0. 0. 0. 0.]\n",
            " [0. 0. 0. 0. 0. 0. 0. 0. 0. 0. 0. 0. 0. 0. 0. 0. 0. 0. 0. 0. 0. 0. 0. 0.\n",
            "  0. 0. 0. 0. 0. 0. 0. 0.]\n",
            " [0. 0. 0. 0. 0. 0. 0. 0. 0. 0. 0. 0. 0. 0. 0. 0. 0. 0. 0. 0. 0. 0. 0. 0.\n",
            "  0. 0. 0. 0. 0. 0. 0. 0.]\n",
            " [0. 0. 0. 0. 0. 0. 0. 0. 0. 0. 0. 0. 0. 0. 0. 0. 0. 0. 0. 0. 0. 0. 0. 0.\n",
            "  0. 0. 0. 0. 0. 0. 0. 0.]\n",
            " [0. 0. 0. 0. 0. 0. 0. 0. 0. 0. 0. 0. 0. 0. 0. 0. 0. 0. 0. 0. 0. 0. 0. 0.\n",
            "  0. 0. 0. 0. 0. 0. 0. 0.]\n",
            " [0. 0. 0. 0. 0. 0. 0. 0. 0. 0. 0. 0. 0. 0. 0. 0. 0. 0. 0. 0. 0. 0. 0. 0.\n",
            "  0. 0. 0. 0. 0. 0. 0. 0.]\n",
            " [0. 0. 0. 0. 0. 0. 0. 0. 0. 0. 0. 0. 0. 0. 0. 0. 0. 0. 0. 0. 0. 0. 0. 0.\n",
            "  0. 0. 0. 0. 0. 0. 0. 0.]\n",
            " [0. 0. 0. 0. 0. 0. 0. 0. 0. 0. 0. 0. 0. 0. 0. 0. 0. 0. 0. 0. 0. 0. 0. 0.\n",
            "  0. 0. 0. 0. 0. 0. 0. 0.]\n",
            " [0. 0. 0. 0. 0. 0. 0. 0. 0. 0. 0. 0. 0. 0. 0. 0. 0. 0. 0. 0. 0. 0. 0. 0.\n",
            "  0. 0. 0. 0. 0. 0. 0. 0.]\n",
            " [0. 0. 0. 0. 0. 0. 0. 0. 0. 0. 0. 0. 0. 0. 0. 0. 0. 0. 0. 0. 0. 0. 0. 0.\n",
            "  0. 0. 0. 0. 0. 0. 0. 0.]\n",
            " [0. 0. 0. 0. 0. 0. 0. 0. 0. 0. 0. 0. 0. 0. 0. 0. 0. 0. 0. 0. 0. 0. 0. 0.\n",
            "  0. 0. 0. 0. 0. 0. 0. 0.]\n",
            " [0. 0. 0. 0. 0. 0. 0. 0. 0. 0. 0. 0. 0. 0. 0. 0. 0. 0. 0. 0. 0. 0. 0. 0.\n",
            "  0. 0. 0. 0. 0. 0. 0. 0.]\n",
            " [0. 0. 0. 0. 0. 0. 0. 0. 0. 0. 0. 0. 0. 0. 0. 0. 0. 0. 0. 0. 0. 0. 0. 0.\n",
            "  0. 0. 0. 0. 0. 0. 0. 0.]\n",
            " [0. 0. 0. 0. 0. 0. 0. 0. 0. 0. 0. 0. 0. 0. 0. 0. 0. 0. 0. 0. 0. 0. 0. 0.\n",
            "  0. 0. 0. 0. 0. 0. 0. 0.]\n",
            " [0. 0. 0. 0. 0. 0. 0. 0. 0. 0. 0. 0. 0. 0. 0. 0. 0. 0. 0. 0. 0. 0. 0. 0.\n",
            "  0. 0. 0. 0. 0. 0. 0. 0.]\n",
            " [0. 0. 0. 0. 0. 0. 0. 0. 0. 0. 0. 0. 0. 0. 0. 0. 0. 0. 0. 0. 0. 0. 0. 0.\n",
            "  0. 0. 0. 0. 0. 0. 0. 0.]\n",
            " [0. 0. 0. 0. 0. 0. 0. 0. 0. 0. 0. 0. 0. 0. 0. 0. 0. 0. 0. 0. 0. 0. 0. 0.\n",
            "  0. 0. 0. 0. 0. 0. 0. 0.]\n",
            " [0. 0. 0. 0. 0. 0. 0. 0. 0. 0. 0. 0. 0. 0. 0. 0. 0. 0. 0. 0. 0. 0. 0. 0.\n",
            "  0. 0. 0. 0. 0. 0. 0. 0.]\n",
            " [0. 0. 0. 0. 0. 0. 0. 0. 0. 0. 0. 0. 0. 0. 0. 0. 0. 0. 0. 0. 0. 0. 0. 0.\n",
            "  0. 0. 0. 0. 0. 0. 0. 0.]\n",
            " [0. 0. 0. 0. 0. 0. 0. 0. 0. 0. 0. 0. 0. 0. 0. 0. 0. 0. 0. 0. 0. 0. 0. 0.\n",
            "  0. 0. 0. 0. 0. 0. 0. 0.]\n",
            " [0. 0. 0. 0. 0. 0. 0. 0. 0. 0. 0. 0. 0. 0. 0. 0. 0. 0. 0. 0. 0. 0. 0. 0.\n",
            "  0. 0. 0. 0. 0. 0. 0. 0.]\n",
            " [0. 0. 0. 0. 0. 0. 0. 0. 0. 0. 0. 0. 0. 0. 0. 0. 0. 0. 0. 0. 0. 0. 0. 0.\n",
            "  0. 0. 0. 0. 0. 0. 0. 0.]\n",
            " [0. 0. 0. 0. 0. 0. 0. 0. 0. 0. 0. 0. 0. 0. 0. 0. 0. 0. 0. 0. 0. 0. 0. 0.\n",
            "  0. 0. 0. 0. 0. 0. 0. 0.]\n",
            " [0. 0. 0. 0. 0. 0. 0. 0. 0. 0. 0. 0. 0. 0. 0. 0. 0. 0. 0. 0. 0. 0. 0. 0.\n",
            "  0. 0. 0. 0. 0. 0. 0. 0.]\n",
            " [0. 0. 0. 0. 0. 0. 0. 0. 0. 0. 0. 0. 0. 0. 0. 0. 0. 0. 0. 0. 0. 0. 0. 0.\n",
            "  0. 0. 0. 0. 0. 0. 0. 0.]\n",
            " [0. 0. 0. 0. 0. 0. 0. 0. 0. 0. 0. 0. 0. 0. 0. 0. 0. 0. 0. 0. 0. 0. 0. 0.\n",
            "  0. 0. 0. 0. 0. 0. 0. 0.]\n",
            " [0. 0. 0. 0. 0. 0. 0. 0. 0. 0. 0. 0. 0. 0. 0. 0. 0. 0. 0. 0. 0. 0. 0. 0.\n",
            "  0. 0. 0. 0. 0. 0. 0. 0.]\n",
            " [0. 0. 0. 0. 0. 0. 0. 0. 0. 0. 0. 0. 0. 0. 0. 0. 0. 0. 0. 0. 0. 0. 0. 0.\n",
            "  0. 0. 0. 0. 0. 0. 0. 0.]\n",
            " [0. 0. 0. 0. 0. 0. 0. 0. 0. 0. 0. 0. 0. 0. 0. 0. 0. 0. 0. 0. 0. 0. 0. 0.\n",
            "  0. 0. 0. 0. 0. 0. 0. 0.]\n",
            " [0. 0. 0. 0. 0. 0. 0. 0. 0. 0. 0. 0. 0. 0. 0. 0. 0. 0. 0. 0. 0. 0. 0. 0.\n",
            "  0. 0. 0. 0. 0. 0. 0. 0.]\n",
            " [0. 0. 0. 0. 0. 0. 0. 0. 0. 0. 0. 0. 0. 0. 0. 0. 0. 0. 0. 0. 0. 0. 0. 0.\n",
            "  0. 0. 0. 0. 0. 0. 0. 0.]\n",
            " [0. 0. 0. 0. 0. 0. 0. 0. 0. 0. 0. 0. 0. 0. 0. 0. 0. 0. 0. 0. 0. 0. 0. 0.\n",
            "  0. 0. 0. 0. 0. 0. 0. 0.]\n",
            " [0. 0. 0. 0. 0. 0. 0. 0. 0. 0. 0. 0. 0. 0. 0. 0. 0. 0. 0. 0. 0. 0. 0. 0.\n",
            "  0. 0. 0. 0. 0. 0. 0. 0.]\n",
            " [0. 0. 0. 0. 0. 0. 0. 0. 0. 0. 0. 0. 0. 0. 0. 0. 0. 0. 0. 0. 0. 0. 0. 0.\n",
            "  0. 0. 0. 0. 0. 0. 0. 0.]\n",
            " [0. 0. 0. 0. 0. 0. 0. 0. 0. 0. 0. 0. 0. 0. 0. 0. 0. 0. 0. 0. 0. 0. 0. 0.\n",
            "  0. 0. 0. 0. 0. 0. 0. 0.]\n",
            " [0. 0. 0. 0. 0. 0. 0. 0. 0. 0. 0. 0. 0. 0. 0. 0. 0. 0. 0. 0. 0. 0. 0. 0.\n",
            "  0. 0. 0. 0. 0. 0. 0. 0.]\n",
            " [0. 0. 0. 0. 0. 0. 0. 0. 0. 0. 0. 0. 0. 0. 0. 0. 0. 0. 0. 0. 0. 0. 0. 0.\n",
            "  0. 0. 0. 0. 0. 0. 0. 0.]\n",
            " [0. 0. 0. 0. 0. 0. 0. 0. 0. 0. 0. 0. 0. 0. 0. 0. 0. 0. 0. 0. 0. 0. 0. 0.\n",
            "  0. 0. 0. 0. 0. 0. 0. 0.]\n",
            " [0. 0. 0. 0. 0. 0. 0. 0. 0. 0. 0. 0. 0. 0. 0. 0. 0. 0. 0. 0. 0. 0. 0. 0.\n",
            "  0. 0. 0. 0. 0. 0. 0. 0.]\n",
            " [0. 0. 0. 0. 0. 0. 0. 0. 0. 0. 0. 0. 0. 0. 0. 0. 0. 0. 0. 0. 0. 0. 0. 0.\n",
            "  0. 0. 0. 0. 0. 0. 0. 0.]\n",
            " [0. 0. 0. 0. 0. 0. 0. 0. 0. 0. 0. 0. 0. 0. 0. 0. 0. 0. 0. 0. 0. 0. 0. 0.\n",
            "  0. 0. 0. 0. 0. 0. 0. 0.]\n",
            " [0. 0. 0. 0. 0. 0. 0. 0. 0. 0. 0. 0. 0. 0. 0. 0. 0. 0. 0. 0. 0. 0. 0. 0.\n",
            "  0. 0. 0. 0. 0. 0. 0. 0.]\n",
            " [0. 0. 0. 0. 0. 0. 0. 0. 0. 0. 0. 0. 0. 0. 0. 0. 0. 0. 0. 0. 0. 0. 0. 0.\n",
            "  0. 0. 0. 0. 0. 0. 0. 0.]\n",
            " [0. 0. 0. 0. 0. 0. 0. 0. 0. 0. 0. 0. 0. 0. 0. 0. 0. 0. 0. 0. 0. 0. 0. 0.\n",
            "  0. 0. 0. 0. 0. 0. 0. 0.]\n",
            " [0. 0. 0. 0. 0. 0. 0. 0. 0. 0. 0. 0. 0. 0. 0. 0. 0. 0. 0. 0. 0. 0. 0. 0.\n",
            "  0. 0. 0. 0. 0. 0. 0. 0.]\n",
            " [0. 0. 0. 0. 0. 0. 0. 0. 0. 0. 0. 0. 0. 0. 0. 0. 0. 0. 0. 0. 0. 0. 0. 0.\n",
            "  0. 0. 0. 0. 0. 0. 0. 0.]\n",
            " [0. 0. 0. 0. 0. 0. 0. 0. 0. 0. 0. 0. 0. 0. 0. 0. 0. 0. 0. 0. 0. 0. 0. 0.\n",
            "  0. 0. 0. 0. 0. 0. 0. 0.]\n",
            " [0. 0. 0. 0. 0. 0. 0. 0. 0. 0. 0. 0. 0. 0. 0. 0. 0. 0. 0. 0. 0. 0. 0. 0.\n",
            "  0. 0. 0. 0. 0. 0. 0. 0.]\n",
            " [0. 0. 0. 0. 0. 0. 0. 0. 0. 0. 0. 0. 0. 0. 0. 0. 0. 0. 0. 0. 0. 0. 0. 0.\n",
            "  0. 0. 0. 0. 0. 0. 0. 0.]\n",
            " [0. 0. 0. 0. 0. 0. 0. 0. 0. 0. 0. 0. 0. 0. 0. 0. 0. 0. 0. 0. 0. 0. 0. 0.\n",
            "  0. 0. 0. 0. 0. 0. 0. 0.]\n",
            " [0. 0. 0. 0. 0. 0. 0. 0. 0. 0. 0. 0. 0. 0. 0. 0. 0. 0. 0. 0. 0. 0. 0. 0.\n",
            "  0. 0. 0. 0. 0. 0. 0. 0.]\n",
            " [0. 0. 0. 0. 0. 0. 0. 0. 0. 0. 0. 0. 0. 0. 0. 0. 0. 0. 0. 0. 0. 0. 0. 0.\n",
            "  0. 0. 0. 0. 0. 0. 0. 0.]\n",
            " [0. 0. 0. 0. 0. 0. 0. 0. 0. 0. 0. 0. 0. 0. 0. 0. 0. 0. 0. 0. 0. 0. 0. 0.\n",
            "  0. 0. 0. 0. 0. 0. 0. 0.]\n",
            " [0. 0. 0. 0. 0. 0. 0. 0. 0. 0. 0. 0. 0. 0. 0. 0. 0. 0. 0. 0. 0. 0. 0. 0.\n",
            "  0. 0. 0. 0. 0. 0. 0. 0.]\n",
            " [0. 0. 0. 0. 0. 0. 0. 0. 0. 0. 0. 0. 0. 0. 0. 0. 0. 0. 0. 0. 0. 0. 0. 0.\n",
            "  0. 0. 0. 0. 0. 0. 0. 0.]\n",
            " [0. 0. 0. 0. 0. 0. 0. 0. 0. 0. 0. 0. 0. 0. 0. 0. 0. 0. 0. 0. 0. 0. 0. 0.\n",
            "  0. 0. 0. 0. 0. 0. 0. 0.]\n",
            " [0. 0. 0. 0. 0. 0. 0. 0. 0. 0. 0. 0. 0. 0. 0. 0. 0. 0. 0. 0. 0. 0. 0. 0.\n",
            "  0. 0. 0. 0. 0. 0. 0. 0.]\n",
            " [0. 0. 0. 0. 0. 0. 0. 0. 0. 0. 0. 0. 0. 0. 0. 0. 0. 0. 0. 0. 0. 0. 0. 0.\n",
            "  0. 0. 0. 0. 0. 0. 0. 0.]\n",
            " [0. 0. 0. 0. 0. 0. 0. 0. 0. 0. 0. 0. 0. 0. 0. 0. 0. 0. 0. 0. 0. 0. 0. 0.\n",
            "  0. 0. 0. 0. 0. 0. 0. 0.]\n",
            " [0. 0. 0. 0. 0. 0. 0. 0. 0. 0. 0. 0. 0. 0. 0. 0. 0. 0. 0. 0. 0. 0. 0. 0.\n",
            "  0. 0. 0. 0. 0. 0. 0. 0.]\n",
            " [0. 0. 0. 0. 0. 0. 0. 0. 0. 0. 0. 0. 0. 0. 0. 0. 0. 0. 0. 0. 0. 0. 0. 0.\n",
            "  0. 0. 0. 0. 0. 0. 0. 0.]\n",
            " [0. 0. 0. 0. 0. 0. 0. 0. 0. 0. 0. 0. 0. 0. 0. 0. 0. 0. 0. 0. 0. 0. 0. 0.\n",
            "  0. 0. 0. 0. 0. 0. 0. 0.]\n",
            " [0. 0. 0. 0. 0. 0. 0. 0. 0. 0. 0. 0. 0. 0. 0. 0. 0. 0. 0. 0. 0. 0. 0. 0.\n",
            "  0. 0. 0. 0. 0. 0. 0. 0.]\n",
            " [0. 0. 0. 0. 0. 0. 0. 0. 0. 0. 0. 0. 0. 0. 0. 0. 0. 0. 0. 0. 0. 0. 0. 0.\n",
            "  0. 0. 0. 0. 0. 0. 0. 0.]\n",
            " [0. 0. 0. 0. 0. 0. 0. 0. 0. 0. 0. 0. 0. 0. 0. 0. 0. 0. 0. 0. 0. 0. 0. 0.\n",
            "  0. 0. 0. 0. 0. 0. 0. 0.]\n",
            " [0. 0. 0. 0. 0. 0. 0. 0. 0. 0. 0. 0. 0. 0. 0. 0. 0. 0. 0. 0. 0. 0. 0. 0.\n",
            "  0. 0. 0. 0. 0. 0. 0. 0.]\n",
            " [0. 0. 0. 0. 0. 0. 0. 0. 0. 0. 0. 0. 0. 0. 0. 0. 0. 0. 0. 0. 0. 0. 0. 0.\n",
            "  0. 0. 0. 0. 0. 0. 0. 0.]\n",
            " [0. 0. 0. 0. 0. 0. 0. 0. 0. 0. 0. 0. 0. 0. 0. 0. 0. 0. 0. 0. 0. 0. 0. 0.\n",
            "  0. 0. 0. 0. 0. 0. 0. 0.]\n",
            " [0. 0. 0. 0. 0. 0. 0. 0. 0. 0. 0. 0. 0. 0. 0. 0. 0. 0. 0. 0. 0. 0. 0. 0.\n",
            "  0. 0. 0. 0. 0. 0. 0. 0.]\n",
            " [0. 0. 0. 0. 0. 0. 0. 0. 0. 0. 0. 0. 0. 0. 0. 0. 0. 0. 0. 0. 0. 0. 0. 0.\n",
            "  0. 0. 0. 0. 0. 0. 0. 0.]\n",
            " [0. 0. 0. 0. 0. 0. 0. 0. 0. 0. 0. 0. 0. 0. 0. 0. 0. 0. 0. 0. 0. 0. 0. 0.\n",
            "  0. 0. 0. 0. 0. 0. 0. 0.]\n",
            " [0. 0. 0. 0. 0. 0. 0. 0. 0. 0. 0. 0. 0. 0. 0. 0. 0. 0. 0. 0. 0. 0. 0. 0.\n",
            "  0. 0. 0. 0. 0. 0. 0. 0.]]\n"
          ],
          "name": "stdout"
        }
      ]
    },
    {
      "cell_type": "code",
      "metadata": {
        "colab": {
          "base_uri": "https://localhost:8080/"
        },
        "id": "EFSkdzrdDRan",
        "outputId": "33382c2e-7619-4a72-e2fc-ab052feade5c"
      },
      "source": [
        "#Prepare data for LSTM by labelling \n",
        "#Create unique, numerical labels for each character between 0 and n-1, where n is the number of unique characters\n",
        "from sklearn.preprocessing import LabelEncoder\n",
        "\n",
        "label_encoder = LabelEncoder()\n",
        "integer_encoded = label_encoder.fit_transform(TypeOfCharacter_noE)\n",
        "print(\"Array of labels for each character:\")\n",
        "print(integer_encoded)\n",
        "label_encoder.transform([\"#\",'C'])\n",
        "label_encoder.inverse_transform([0,14])"
      ],
      "execution_count": null,
      "outputs": [
        {
          "output_type": "stream",
          "text": [
            "Array of labels for each character:\n",
            "[ 0  1  2  3  4  5  6  7  8  9 10 11 12 13 14 15 16 17 18 19 20 21 22 23\n",
            " 24 25 26 27 28 29 30]\n"
          ],
          "name": "stdout"
        },
        {
          "output_type": "execute_result",
          "data": {
            "text/plain": [
              "array(['#', 'C'], dtype='<U1')"
            ]
          },
          "metadata": {
            "tags": []
          },
          "execution_count": 23
        }
      ]
    },
    {
      "cell_type": "code",
      "metadata": {
        "colab": {
          "base_uri": "https://localhost:8080/",
          "height": 232
        },
        "id": "Xp2tK2Jerae9",
        "outputId": "bb001953-528f-475b-da6c-a36922c3da84"
      },
      "source": [
        "#Generate my own one hot encoding dataset for Autoencoder\n",
        "import torch\n",
        "import numpy as np\n",
        "from torch.utils.data import TensorDataset, DataLoader\n",
        "from torch.utils.data import random_split\n",
        "import torchvision.datasets as datasets\n",
        "batch_size = 64\n",
        "\n",
        "my_x = []\n",
        "for i in range(data.len()):\n",
        "  iSmileArray = SmileToOneHot(data[i].smiles)\n",
        "  my_x.append(iSmileArray)\n",
        "my_y = [np.array([data[i].y])for i in range(data.len())]\n",
        "tensor_x = torch.Tensor(my_x) # transform to torch tensor\n",
        "tensor_y = torch.Tensor(my_y)\n",
        "my_dataset = TensorDataset(tensor_x,tensor_y) # create your datset\n",
        "\n",
        "# define training set and testing set\n",
        "train_size = int(round(len(my_x)*0.8))\n",
        "test_size = len(my_dataset) - train_size\n",
        "print(train_size)\n",
        "train_dataset, test_dataset = random_split(my_dataset, [train_size, test_size])\n",
        "trainloader = DataLoader(train_dataset, batch_size, shuffle=True, num_workers=3, pin_memory=True)\n",
        "testloader = DataLoader(test_dataset, batch_size, shuffle=False, num_workers=3, pin_memory=True)"
      ],
      "execution_count": 15,
      "outputs": [
        {
          "output_type": "error",
          "ename": "NameError",
          "evalue": "ignored",
          "traceback": [
            "\u001b[0;31m---------------------------------------------------------------------------\u001b[0m",
            "\u001b[0;31mNameError\u001b[0m                                 Traceback (most recent call last)",
            "\u001b[0;32m<ipython-input-15-aec4d280c122>\u001b[0m in \u001b[0;36m<module>\u001b[0;34m()\u001b[0m\n\u001b[1;32m      9\u001b[0m \u001b[0mmy_x\u001b[0m \u001b[0;34m=\u001b[0m \u001b[0;34m[\u001b[0m\u001b[0;34m]\u001b[0m\u001b[0;34m\u001b[0m\u001b[0;34m\u001b[0m\u001b[0m\n\u001b[1;32m     10\u001b[0m \u001b[0;32mfor\u001b[0m \u001b[0mi\u001b[0m \u001b[0;32min\u001b[0m \u001b[0mrange\u001b[0m\u001b[0;34m(\u001b[0m\u001b[0mdata\u001b[0m\u001b[0;34m.\u001b[0m\u001b[0mlen\u001b[0m\u001b[0;34m(\u001b[0m\u001b[0;34m)\u001b[0m\u001b[0;34m)\u001b[0m\u001b[0;34m:\u001b[0m\u001b[0;34m\u001b[0m\u001b[0;34m\u001b[0m\u001b[0m\n\u001b[0;32m---> 11\u001b[0;31m   \u001b[0miSmileArray\u001b[0m \u001b[0;34m=\u001b[0m \u001b[0mSmileToOneHot\u001b[0m\u001b[0;34m(\u001b[0m\u001b[0mdata\u001b[0m\u001b[0;34m[\u001b[0m\u001b[0mi\u001b[0m\u001b[0;34m]\u001b[0m\u001b[0;34m.\u001b[0m\u001b[0msmiles\u001b[0m\u001b[0;34m)\u001b[0m\u001b[0;34m\u001b[0m\u001b[0;34m\u001b[0m\u001b[0m\n\u001b[0m\u001b[1;32m     12\u001b[0m   \u001b[0mmy_x\u001b[0m\u001b[0;34m.\u001b[0m\u001b[0mappend\u001b[0m\u001b[0;34m(\u001b[0m\u001b[0miSmileArray\u001b[0m\u001b[0;34m)\u001b[0m\u001b[0;34m\u001b[0m\u001b[0;34m\u001b[0m\u001b[0m\n\u001b[1;32m     13\u001b[0m \u001b[0mmy_y\u001b[0m \u001b[0;34m=\u001b[0m \u001b[0;34m[\u001b[0m\u001b[0mnp\u001b[0m\u001b[0;34m.\u001b[0m\u001b[0marray\u001b[0m\u001b[0;34m(\u001b[0m\u001b[0;34m[\u001b[0m\u001b[0mdata\u001b[0m\u001b[0;34m[\u001b[0m\u001b[0mi\u001b[0m\u001b[0;34m]\u001b[0m\u001b[0;34m.\u001b[0m\u001b[0my\u001b[0m\u001b[0;34m]\u001b[0m\u001b[0;34m)\u001b[0m\u001b[0;32mfor\u001b[0m \u001b[0mi\u001b[0m \u001b[0;32min\u001b[0m \u001b[0mrange\u001b[0m\u001b[0;34m(\u001b[0m\u001b[0mdata\u001b[0m\u001b[0;34m.\u001b[0m\u001b[0mlen\u001b[0m\u001b[0;34m(\u001b[0m\u001b[0;34m)\u001b[0m\u001b[0;34m)\u001b[0m\u001b[0;34m]\u001b[0m\u001b[0;34m\u001b[0m\u001b[0;34m\u001b[0m\u001b[0m\n",
            "\u001b[0;31mNameError\u001b[0m: name 'SmileToOneHot' is not defined"
          ]
        }
      ]
    },
    {
      "cell_type": "code",
      "metadata": {
        "colab": {
          "base_uri": "https://localhost:8080/",
          "height": 0
        },
        "id": "ERrCuQOJs0Hy",
        "outputId": "837ff55c-8576-482b-9c2a-2a806d6d6e6d"
      },
      "source": [
        "# AutoEncoder\n",
        "import torch.nn as nn\n",
        "from PIL import Image\n",
        "import torch.optim as optim\n",
        "from torchvision import datasets\n",
        "import matplotlib.pyplot as plt\n",
        "gpu_id = 0\n",
        "device = torch.device(\"cuda:%d\" % (gpu_id) if torch.cuda.is_available() else \"cpu\")\n",
        "import copy\n",
        "\n",
        "class autoencoder(nn.Module):\n",
        "    def __init__(self):\n",
        "\n",
        "        super(autoencoder, self).__init__()\n",
        "        self.encoder = nn.Sequential(\n",
        "            nn.Linear(98*32, 100),\n",
        "            nn.ReLU(),\n",
        "            nn.Linear(100, 100),\n",
        "            nn.ReLU())\n",
        "        self.decoder = nn.Sequential(\n",
        "            nn.Linear(100, 100),\n",
        "            nn.ReLU(),\n",
        "            nn.Linear(100, 98*32),\n",
        "            nn.ReLU())\n",
        "\n",
        "    def forward(self, x):\n",
        "      x = x.view(x.shape[0],-1)\n",
        "      x = self.encoder(x)\n",
        "      x = self.decoder(x)\n",
        "      return x\n",
        "\n",
        "\n",
        "net = autoencoder().to(device)\n",
        "print(net)\n",
        "\n",
        "init_weights = copy.deepcopy(net.encoder[0].weight.data)"
      ],
      "execution_count": 16,
      "outputs": [
        {
          "output_type": "stream",
          "text": [
            "autoencoder(\n",
            "  (encoder): Sequential(\n",
            "    (0): Linear(in_features=3136, out_features=100, bias=True)\n",
            "    (1): ReLU()\n",
            "    (2): Linear(in_features=100, out_features=100, bias=True)\n",
            "    (3): ReLU()\n",
            "  )\n",
            "  (decoder): Sequential(\n",
            "    (0): Linear(in_features=100, out_features=100, bias=True)\n",
            "    (1): ReLU()\n",
            "    (2): Linear(in_features=100, out_features=3136, bias=True)\n",
            "    (3): ReLU()\n",
            "  )\n",
            ")\n"
          ],
          "name": "stdout"
        }
      ]
    },
    {
      "cell_type": "code",
      "metadata": {
        "colab": {
          "base_uri": "https://localhost:8080/"
        },
        "id": "0ywDL4kNtOF8",
        "outputId": "ae4ad059-5b50-4e23-a29c-c7ab733ea7d0"
      },
      "source": [
        "# Training for autoencoder\n",
        "import time\n",
        "criterion = nn.MSELoss()\n",
        "optimizer = optim.SGD(net.parameters(), lr=0.5, momentum=0.9)\n",
        "iterations = 2000\n",
        "BatchSize = 64\n",
        "with open ('/content/drive/MyDrive/GoogleColab/loss_time.csv','w') as outfile:\n",
        "  outfile.write('Iteration,loss,time\\n')\n",
        "  for epoch in range(iterations):\n",
        "    torch.cuda.synchronize()\n",
        "    since = int(round(time.time()*1000))\n",
        "    runningLoss = 0\n",
        "    for train_num, (SmileArray, solubility) in enumerate(trainloader):\n",
        "      SmileArray =SmileArray.to(device = device)       \n",
        "      optimizer.zero_grad()\n",
        "      outputs = net(SmileArray)\n",
        "      loss = criterion(outputs, SmileArray.view(-1,98*32))\n",
        "      loss.backward()\n",
        "      optimizer.step()\n",
        "      runningLoss += loss.item()\n",
        "    torch.cuda.synchronize()\n",
        "    time_elapsed = int(round(time.time()*1000)) - since\n",
        "    outfile.write(f'{epoch+1},{runningLoss/BatchSize},{time_elapsed}\\n')\n",
        "print('Finished Training')"
      ],
      "execution_count": null,
      "outputs": [
        {
          "output_type": "stream",
          "text": [
            "/usr/local/lib/python3.7/dist-packages/torch/utils/data/dataloader.py:477: UserWarning: This DataLoader will create 3 worker processes in total. Our suggested max number of worker in current system is 2, which is smaller than what this DataLoader is going to create. Please be aware that excessive worker creation might get DataLoader running slow or even freeze, lower the worker number to avoid potential slowness/freeze if necessary.\n",
            "  cpuset_checked))\n"
          ],
          "name": "stderr"
        },
        {
          "output_type": "stream",
          "text": [
            "Finished Training\n"
          ],
          "name": "stdout"
        }
      ]
    },
    {
      "cell_type": "code",
      "metadata": {
        "id": "Rd69P9PdtZ2G"
      },
      "source": [
        "# check whether the generated string is the same as the input and whether it's a valid smile string \n",
        "def check_accuracy(loader,model,fileName):\n",
        "  '''output a file with real smile string, predicted smile string, real smile (1 for real, 0 for fake), a match (1 for a match, 0 for not a match ) '''\n",
        "  with open(f'/content/drive/MyDrive/GoogleColab/{fileName}.csv','w') as outfile:\n",
        "    outfile.write('Real,predicted,real smile, match\\n')\n",
        "    num_correct = 0\n",
        "    num_smile = 0\n",
        "    num_samples = 0\n",
        "    model.eval()\n",
        "    with torch.no_grad():        \n",
        "        for x,y in loader:\n",
        "            x = x.to(device = device)\n",
        "            SmileArray = model(x)\n",
        "            SmileArray = SmileArray.view(-1,98,32)\n",
        "            for i in range(SmileArray.shape[0]):\n",
        "              SmileOneHotArray = torch.zeros_like(SmileArray[i])\n",
        "              predictions,index = SmileArray[i].max(1)\n",
        "              n_row = 0\n",
        "              for j in index:\n",
        "                SmileOneHotArray[n_row][j]=1\n",
        "                n_row+=1\n",
        "              SmileString = OneHotToSmile(SmileOneHotArray.cpu())\n",
        "              realSmileString = OneHotToSmile(x[i].cpu())\n",
        "              m = Chem.MolFromSmiles(SmileString)\n",
        "              if SmileString == realSmileString:\n",
        "                num_correct +=1\n",
        "                outfile.write(f'{realSmileString},{SmileString},1,1\\n')\n",
        "                print(f'{realSmileString},{SmileString},1,1\\n')\n",
        "              elif m!= None:\n",
        "                num_smile+=1\n",
        "                outfile.write(f'{realSmileString},{SmileString},1,0\\n')\n",
        "                print(f'{realSmileString},{SmileString},1,0\\n')\n",
        "              else:\n",
        "                outfile.write(f'{realSmileString},{SmileString},0,0\\n')             \n",
        "              num_samples +=1               \n",
        "        acc = float(num_correct)/float(num_samples)\n",
        "    print(f\"Got {num_correct}/{num_samples} with accuracy {float(num_correct)/float(num_samples)*100:.2f}\")\n",
        "    print(f\"Number of smile {num_smile} with a chance of {float(num_smile)/float(num_samples)*100:.2f}\")\n",
        "    model.train()\n",
        "  return acc"
      ],
      "execution_count": null,
      "outputs": []
    },
    {
      "cell_type": "code",
      "metadata": {
        "colab": {
          "base_uri": "https://localhost:8080/",
          "height": 0
        },
        "id": "shrLiGznuYOL",
        "outputId": "2072f400-be45-457c-ef51-1ab354231e30"
      },
      "source": [
        "# save model in google drive\n",
        "from google.colab import drive\n",
        "drive.mount('/content/drive')\n"
      ],
      "execution_count": 12,
      "outputs": [
        {
          "output_type": "stream",
          "text": [
            "Mounted at /content/drive\n"
          ],
          "name": "stdout"
        }
      ]
    },
    {
      "cell_type": "code",
      "metadata": {
        "colab": {
          "base_uri": "https://localhost:8080/",
          "height": 164
        },
        "id": "osR5tcmsgLnc",
        "outputId": "012d3cac-4beb-4bcb-9418-3b60ca3ac44e"
      },
      "source": [
        "torch.save(net.state_dict(), \"/content/drive/MyDrive/GoogleColab/AutoEncoder\")\n"
      ],
      "execution_count": null,
      "outputs": [
        {
          "output_type": "error",
          "ename": "NameError",
          "evalue": "ignored",
          "traceback": [
            "\u001b[0;31m---------------------------------------------------------------------------\u001b[0m",
            "\u001b[0;31mNameError\u001b[0m                                 Traceback (most recent call last)",
            "\u001b[0;32m<ipython-input-8-0eae6a71ad91>\u001b[0m in \u001b[0;36m<module>\u001b[0;34m()\u001b[0m\n\u001b[0;32m----> 1\u001b[0;31m \u001b[0mtorch\u001b[0m\u001b[0;34m.\u001b[0m\u001b[0msave\u001b[0m\u001b[0;34m(\u001b[0m\u001b[0mnet\u001b[0m\u001b[0;34m.\u001b[0m\u001b[0mstate_dict\u001b[0m\u001b[0;34m(\u001b[0m\u001b[0;34m)\u001b[0m\u001b[0;34m,\u001b[0m \u001b[0;34m\"/content/drive/MyDrive/GoogleColab/AutoEncoder\"\u001b[0m\u001b[0;34m)\u001b[0m\u001b[0;34m\u001b[0m\u001b[0;34m\u001b[0m\u001b[0m\n\u001b[0m",
            "\u001b[0;31mNameError\u001b[0m: name 'net' is not defined"
          ]
        }
      ]
    },
    {
      "cell_type": "code",
      "metadata": {
        "colab": {
          "base_uri": "https://localhost:8080/",
          "height": 232
        },
        "id": "z0e4GAOMLaHD",
        "outputId": "ad61ad2b-9be5-4b2d-aad9-5f56cadfd46c"
      },
      "source": [
        "# reload model from google drive\n",
        "model = autoencoder().to(device = device)\n",
        "model.load_state_dict(torch.load(\"/content/drive/MyDrive/GoogleColab/AutoEncoder\",map_location=device))\n",
        "model.eval()"
      ],
      "execution_count": 17,
      "outputs": [
        {
          "output_type": "error",
          "ename": "NameError",
          "evalue": "ignored",
          "traceback": [
            "\u001b[0;31m---------------------------------------------------------------------------\u001b[0m",
            "\u001b[0;31mNameError\u001b[0m                                 Traceback (most recent call last)",
            "\u001b[0;32m<ipython-input-17-1c44df8c19bc>\u001b[0m in \u001b[0;36m<module>\u001b[0;34m()\u001b[0m\n\u001b[1;32m      1\u001b[0m \u001b[0;31m# reload model from google drive\u001b[0m\u001b[0;34m\u001b[0m\u001b[0;34m\u001b[0m\u001b[0;34m\u001b[0m\u001b[0m\n\u001b[0;32m----> 2\u001b[0;31m \u001b[0mmodel\u001b[0m \u001b[0;34m=\u001b[0m \u001b[0mautoencoder\u001b[0m\u001b[0;34m(\u001b[0m\u001b[0;34m)\u001b[0m\u001b[0;34m.\u001b[0m\u001b[0mto\u001b[0m\u001b[0;34m(\u001b[0m\u001b[0mdevice\u001b[0m \u001b[0;34m=\u001b[0m \u001b[0mdevice\u001b[0m\u001b[0;34m)\u001b[0m\u001b[0;34m\u001b[0m\u001b[0;34m\u001b[0m\u001b[0m\n\u001b[0m\u001b[1;32m      3\u001b[0m \u001b[0mmodel\u001b[0m\u001b[0;34m.\u001b[0m\u001b[0mload_state_dict\u001b[0m\u001b[0;34m(\u001b[0m\u001b[0mtorch\u001b[0m\u001b[0;34m.\u001b[0m\u001b[0mload\u001b[0m\u001b[0;34m(\u001b[0m\u001b[0;34m\"/content/drive/MyDrive/GoogleColab/AutoEncoder\"\u001b[0m\u001b[0;34m,\u001b[0m\u001b[0mmap_location\u001b[0m\u001b[0;34m=\u001b[0m\u001b[0mdevice\u001b[0m\u001b[0;34m)\u001b[0m\u001b[0;34m)\u001b[0m\u001b[0;34m\u001b[0m\u001b[0;34m\u001b[0m\u001b[0m\n\u001b[1;32m      4\u001b[0m \u001b[0mmodel\u001b[0m\u001b[0;34m.\u001b[0m\u001b[0meval\u001b[0m\u001b[0;34m(\u001b[0m\u001b[0;34m)\u001b[0m\u001b[0;34m\u001b[0m\u001b[0;34m\u001b[0m\u001b[0m\n",
            "\u001b[0;31mNameError\u001b[0m: name 'autoencoder' is not defined"
          ]
        }
      ]
    },
    {
      "cell_type": "code",
      "metadata": {
        "id": "tzMeMy04ur0A"
      },
      "source": [
        "# Testing \n",
        "check_accuracy(trainloader,model,'train')\n",
        "check_accuracy(testloader,model,'test')\n",
        "\n",
        "\n",
        "\n"
      ],
      "execution_count": null,
      "outputs": []
    },
    {
      "cell_type": "code",
      "metadata": {
        "colab": {
          "base_uri": "https://localhost:8080/"
        },
        "id": "5zlHtwmrwqgV",
        "outputId": "2241a6b4-6a18-4606-b6a0-b931a9452845"
      },
      "source": [
        "check_accuracy(trainloader,net)\n",
        "check_accuracy(testloader,net)"
      ],
      "execution_count": null,
      "outputs": [
        {
          "output_type": "stream",
          "text": [
            "/usr/local/lib/python3.7/dist-packages/torch/utils/data/dataloader.py:477: UserWarning: This DataLoader will create 3 worker processes in total. Our suggested max number of worker in current system is 2, which is smaller than what this DataLoader is going to create. Please be aware that excessive worker creation might get DataLoader running slow or even freeze, lower the worker number to avoid potential slowness/freeze if necessary.\n",
            "  cpuset_checked))\n"
          ],
          "name": "stderr"
        },
        {
          "output_type": "stream",
          "text": [
            "Got 95/902 with accuracy 10.53\n",
            "Number of smile 103 with a chance of 11.42\n"
          ],
          "name": "stdout"
        },
        {
          "output_type": "stream",
          "text": [
            "/usr/local/lib/python3.7/dist-packages/torch/utils/data/dataloader.py:477: UserWarning: This DataLoader will create 3 worker processes in total. Our suggested max number of worker in current system is 2, which is smaller than what this DataLoader is going to create. Please be aware that excessive worker creation might get DataLoader running slow or even freeze, lower the worker number to avoid potential slowness/freeze if necessary.\n",
            "  cpuset_checked))\n"
          ],
          "name": "stderr"
        },
        {
          "output_type": "stream",
          "text": [
            "Got 17/226 with accuracy 7.52\n",
            "Number of smile 30 with a chance of 13.27\n"
          ],
          "name": "stdout"
        },
        {
          "output_type": "execute_result",
          "data": {
            "text/plain": [
              "0.0752212389380531"
            ]
          },
          "metadata": {
            "tags": []
          },
          "execution_count": 34
        }
      ]
    },
    {
      "cell_type": "code",
      "metadata": {
        "colab": {
          "base_uri": "https://localhost:8080/"
        },
        "id": "lkoXhizwie7-",
        "outputId": "ea3bc4f6-42f2-47c8-be5f-966b8a786b50"
      },
      "source": [
        "# separate encoder and decoder\n",
        "encoder = nn.Sequential(*list(model.children())[:-1])\n",
        "decoder = nn.Sequential(*list(model.children())[1:])\n",
        "encoder"
      ],
      "execution_count": null,
      "outputs": [
        {
          "output_type": "execute_result",
          "data": {
            "text/plain": [
              "Sequential(\n",
              "  (0): Sequential(\n",
              "    (0): Linear(in_features=3136, out_features=100, bias=True)\n",
              "    (1): ReLU()\n",
              "    (2): Linear(in_features=100, out_features=100, bias=True)\n",
              "    (3): ReLU()\n",
              "  )\n",
              ")"
            ]
          },
          "metadata": {
            "tags": []
          },
          "execution_count": 40
        }
      ]
    },
    {
      "cell_type": "code",
      "metadata": {
        "colab": {
          "base_uri": "https://localhost:8080/"
        },
        "id": "Or4W9VuYg1f4",
        "outputId": "75ae3258-8d34-428f-c445-37e90f34b720"
      },
      "source": [
        "# Check the ouput of encoder\n",
        "iterations = 1\n",
        "with torch.no_grad():\n",
        "\n",
        "  for epoch in range(iterations):\n",
        "      for train_num, (SmileArray, solubility) in enumerate(trainloader):\n",
        "        SmileArray =SmileArray.to(device = device)\n",
        "        outputs = encoder(SmileArray.view(SmileArray.shape[0],-1))\n",
        "        break\n",
        "\n",
        "\n",
        "print(outputs[0])\n",
        "# outputs seems to be from 0 to 1 "
      ],
      "execution_count": null,
      "outputs": [
        {
          "output_type": "stream",
          "text": [
            "/usr/local/lib/python3.7/dist-packages/torch/utils/data/dataloader.py:477: UserWarning: This DataLoader will create 3 worker processes in total. Our suggested max number of worker in current system is 2, which is smaller than what this DataLoader is going to create. Please be aware that excessive worker creation might get DataLoader running slow or even freeze, lower the worker number to avoid potential slowness/freeze if necessary.\n",
            "  cpuset_checked))\n"
          ],
          "name": "stderr"
        },
        {
          "output_type": "stream",
          "text": [
            "tensor([1.4916e+00, 2.9923e+00, 2.7978e+00, 6.6497e-01, 3.2855e+00, 2.0129e+00,\n",
            "        2.1819e+00, 2.5681e+00, 1.7372e+00, 2.1326e+00, 2.0308e+00, 2.2864e+00,\n",
            "        1.4178e+00, 1.6438e+00, 1.9863e+00, 2.6837e+00, 1.1686e+00, 0.0000e+00,\n",
            "        1.0308e+00, 3.4281e+00, 1.8885e+00, 1.7087e+00, 1.8589e+00, 2.2879e+00,\n",
            "        3.7759e+00, 3.1836e+00, 2.4989e+00, 2.9967e+00, 2.1099e+00, 1.9115e+00,\n",
            "        1.4001e+00, 6.0013e-02, 2.0257e-04, 3.2717e+00, 1.8725e+00, 4.7441e-01,\n",
            "        0.0000e+00, 1.0125e+00, 0.0000e+00, 3.7120e+00, 1.8445e+00, 1.3258e+00,\n",
            "        2.4842e+00, 1.2921e+00, 4.1484e+00, 1.9901e+00, 0.0000e+00, 1.0086e+00,\n",
            "        1.8405e+00, 1.7778e+00, 8.9723e-01, 0.0000e+00, 2.9534e+00, 2.3616e+00,\n",
            "        9.2669e-01, 1.2768e+00, 1.5856e+00, 1.8398e+00, 1.1465e+00, 7.2678e-03,\n",
            "        1.9085e-01, 0.0000e+00, 1.0504e+00, 2.2805e+00, 1.4510e+00, 0.0000e+00,\n",
            "        1.1364e+00, 2.3614e+00, 3.7164e+00, 1.8887e+00, 3.1749e+00, 0.0000e+00,\n",
            "        0.0000e+00, 3.0298e-01, 0.0000e+00, 1.0119e+00, 1.7553e-01, 1.1192e+00,\n",
            "        1.9699e+00, 0.0000e+00, 1.5830e+00, 1.6334e+00, 1.5629e+00, 2.9679e+00,\n",
            "        2.4984e+00, 1.5010e+00, 2.3102e+00, 2.4165e+00, 3.4995e+00, 1.7957e+00,\n",
            "        0.0000e+00, 0.0000e+00, 9.9042e-01, 0.0000e+00, 4.0985e+00, 0.0000e+00,\n",
            "        1.3218e+00, 2.6238e-01, 2.7053e+00, 1.9965e+00])\n"
          ],
          "name": "stdout"
        }
      ]
    },
    {
      "cell_type": "code",
      "metadata": {
        "id": "4Fkubzv1rqeI"
      },
      "source": [
        "#Generate random input of dimension batchsize*100 from 0 to 1\n",
        "num_random_mole = 900\n",
        "randomInput = torch.rand(num_random_mole, 100)\n",
        "randomInput = randomInput.to(device = device)"
      ],
      "execution_count": null,
      "outputs": []
    },
    {
      "cell_type": "code",
      "metadata": {
        "colab": {
          "base_uri": "https://localhost:8080/"
        },
        "id": "XEPFAYbN0OHp",
        "outputId": "721c1aa9-3cd5-4996-b8a2-5d8fc2ebf857"
      },
      "source": [
        "# check for smile if it's a valid smile, denote it with 1\n",
        "num_smile = 0\n",
        "with torch.no_grad():\n",
        "  outputs = decoder(randomInput)\n",
        "\n",
        "with open('/content/drive/MyDrive/GoogleColab/Generated_Smile.csv','w') as outfile:\n",
        "  outfile.write('Generated_Smile,Real\\n')\n",
        "\n",
        "  for i in range(num_random_mole):\n",
        "    OneSmile = outputs[i].view(98,32)\n",
        "    OneSmileString = OneHotToSmile(OneSmile.cpu())\n",
        "    m = Chem.MolFromSmiles(OneSmileString)\n",
        "    if m != None:\n",
        "      num_smile+=1\n",
        "      outfile.write(f'{OneSmileString},1\\n')\n",
        "    else:\n",
        "      outfile.write(f'{OneSmileString},0\\n')\n",
        "\n",
        "\n",
        "print(num_smile,num_smile/num_random_mole)\n",
        "\n"
      ],
      "execution_count": null,
      "outputs": [
        {
          "output_type": "stream",
          "text": [
            "89 0.09888888888888889\n"
          ],
          "name": "stdout"
        }
      ]
    },
    {
      "cell_type": "code",
      "metadata": {
        "colab": {
          "base_uri": "https://localhost:8080/",
          "height": 0
        },
        "id": "08sBrkfq8Wlk",
        "outputId": "1fc6e2b3-3033-4bc9-a2d0-e526ec47ed40"
      },
      "source": [
        "# LSTM model \n",
        "! pip install unidecode\n",
        "import torch\n",
        "import torch.nn as nn\n",
        "import string\n",
        "import random\n",
        "import sys\n",
        "import unidecode"
      ],
      "execution_count": 31,
      "outputs": [
        {
          "output_type": "stream",
          "text": [
            "Collecting unidecode\n",
            "\u001b[?25l  Downloading https://files.pythonhosted.org/packages/9e/25/723487ca2a52ebcee88a34d7d1f5a4b80b793f179ee0f62d5371938dfa01/Unidecode-1.2.0-py2.py3-none-any.whl (241kB)\n",
            "\r\u001b[K     |█▍                              | 10kB 24.0MB/s eta 0:00:01\r\u001b[K     |██▊                             | 20kB 30.2MB/s eta 0:00:01\r\u001b[K     |████                            | 30kB 20.3MB/s eta 0:00:01\r\u001b[K     |█████▍                          | 40kB 24.0MB/s eta 0:00:01\r\u001b[K     |██████▉                         | 51kB 23.6MB/s eta 0:00:01\r\u001b[K     |████████▏                       | 61kB 25.5MB/s eta 0:00:01\r\u001b[K     |█████████▌                      | 71kB 19.0MB/s eta 0:00:01\r\u001b[K     |██████████▉                     | 81kB 20.2MB/s eta 0:00:01\r\u001b[K     |████████████▏                   | 92kB 19.1MB/s eta 0:00:01\r\u001b[K     |█████████████▋                  | 102kB 19.1MB/s eta 0:00:01\r\u001b[K     |███████████████                 | 112kB 19.1MB/s eta 0:00:01\r\u001b[K     |████████████████▎               | 122kB 19.1MB/s eta 0:00:01\r\u001b[K     |█████████████████▋              | 133kB 19.1MB/s eta 0:00:01\r\u001b[K     |███████████████████             | 143kB 19.1MB/s eta 0:00:01\r\u001b[K     |████████████████████▍           | 153kB 19.1MB/s eta 0:00:01\r\u001b[K     |█████████████████████▊          | 163kB 19.1MB/s eta 0:00:01\r\u001b[K     |███████████████████████         | 174kB 19.1MB/s eta 0:00:01\r\u001b[K     |████████████████████████▍       | 184kB 19.1MB/s eta 0:00:01\r\u001b[K     |█████████████████████████▊      | 194kB 19.1MB/s eta 0:00:01\r\u001b[K     |███████████████████████████▏    | 204kB 19.1MB/s eta 0:00:01\r\u001b[K     |████████████████████████████▌   | 215kB 19.1MB/s eta 0:00:01\r\u001b[K     |█████████████████████████████▉  | 225kB 19.1MB/s eta 0:00:01\r\u001b[K     |███████████████████████████████▏| 235kB 19.1MB/s eta 0:00:01\r\u001b[K     |████████████████████████████████| 245kB 19.1MB/s \n",
            "\u001b[?25hInstalling collected packages: unidecode\n",
            "Successfully installed unidecode-1.2.0\n"
          ],
          "name": "stdout"
        }
      ]
    },
    {
      "cell_type": "code",
      "metadata": {
        "colab": {
          "base_uri": "https://localhost:8080/",
          "height": 52
        },
        "id": "-pQr5lz-NDEh",
        "outputId": "dac92e18-ffe2-4656-81ce-730d98c38a26"
      },
      "source": [
        "# Get characters from string.printable\n",
        "all_characters = string.printable\n",
        "n_characters = len(all_characters)\n",
        "all_characters"
      ],
      "execution_count": 11,
      "outputs": [
        {
          "output_type": "execute_result",
          "data": {
            "application/vnd.google.colaboratory.intrinsic+json": {
              "type": "string"
            },
            "text/plain": [
              "'0123456789abcdefghijklmnopqrstuvwxyzABCDEFGHIJKLMNOPQRSTUVWXYZ!\"#$%&\\'()*+,-./:;<=>?@[\\\\]^_`{|}~ \\t\\n\\r\\x0b\\x0c'"
            ]
          },
          "metadata": {
            "tags": []
          },
          "execution_count": 11
        }
      ]
    },
    {
      "cell_type": "code",
      "metadata": {
        "id": "QzZpBIg4Bdwz"
      },
      "source": [
        "#Create a training and testing text file with all the smiles\n",
        "with open('/content/drive/MyDrive/GoogleColab/smile_training.txt','w') as outfile:\n",
        "  for i in range(int(round(data.len())*0.8)):\n",
        "    outfile.write(f\"{data[i].smiles}\\n\")\n",
        "\n",
        "with open('/content/drive/MyDrive/GoogleColab/smile_testing.txt','w') as outfile:\n",
        "  for i in range(int(round(data.len())*0.8),data.len()):\n",
        "    outfile.write(f\"{data[i].smiles}\\n\")"
      ],
      "execution_count": 23,
      "outputs": []
    },
    {
      "cell_type": "code",
      "metadata": {
        "colab": {
          "base_uri": "https://localhost:8080/",
          "height": 188
        },
        "id": "fxNV5mfGCAjs",
        "outputId": "3b6b4d1b-62eb-4cb1-d9b4-19b554afc5a1"
      },
      "source": [
        "# Read large text file (Note can be any text file: not limited to just names)\n",
        "file = unidecode.unidecode(open(\"/content/drive/MyDrive/GoogleColab/smile_testing.txt\").read())\n",
        "file"
      ],
      "execution_count": 137,
      "outputs": [
        {
          "output_type": "execute_result",
          "data": {
            "application/vnd.google.colaboratory.intrinsic+json": {
              "type": "string"
            },
            "text/plain": [
              "'COC(C)(C)CCCC(C)CC=CC(C)=CC(=O)OC(C)C\\nCCOC(=O)CC\\nCSc1nc(NC(C)C)nc(NC(C)C)n1\\nCC(C#C)N(C)C(=O)Nc1ccc(Cl)cc1\\nCc1cc2ccccc2cc1C\\nClc1ccc(cc1)c2cc(Cl)ccc2Cl \\nClc1ccc(c(Cl)c1)c2cc(Cl)c(Cl)c(Cl)c2Cl \\nNC(N)=NC#N \\nClC(Cl)(Cl)N(=O)=O\\nClc1cccc(Cl)c1c2ccccc2 \\nCOc1ccc(C=O)cc1\\nCC(=O)Nc1ccc(cc1)N(=O)=O\\nCCCCCCC(=O)OCC\\nCC(=O)Nc1ccc(O)cc1\\nc2ccc1[nH]ncc1c2 \\nCC5(C)OC4CC3C2CCC1=CC(=O)C=CC1(C)C2(F)C(O)CC3(C)C4(O5)C(=O)CO \\nNc2nc1[nH]cnc1c(=O)[nH]2 \\nCOC(=O)C\\nCC34CCC1C(CCC2CC(=O)CCC12C)C3CCC4O \\nCCCC(O)C=C\\nOC(C1=CC2C5C(C1C2=C(c3ccccc3)c4ccccn4)C(=O)NC5=O)(c6ccccc6)c7ccccn7 \\nCCCCOCCCC\\nCCCCCCCCCCCCO\\nCCN2c1nc(N(C)(CCO))ccc1NC(=O)c3cccnc23 \\nCCCC(C)(C)O\\nNc1nc(=O)[nH]cc1F\\nCCCCOc1ccc(C(=O)OCC)c(c1)N(CC)CC \\nCCCCCC(C)(C)O\\nCc1c(C)c(C)c(C)c(C)c1C\\nCC(C)c1ccc(C)cc1O\\nc2cnc1ncncc1n2\\nCCOP(=S)(OCC)Oc1ccc(cc1)N(=O)=O\\nC\\nc2ccc1NCCc1c2 \\nO=N(=O)c1cccc2ccccc12\\nCCC(C)C(=O)C\\nNc1nc(O)nc2nc[nH]c12 \\nOC(CC(c1ccccc1)c3c(O)c2ccccc2oc3=O)c4ccc(cc4)c5ccc(Br)cc5 \\nCN(=O)=O\\nCC(C)N(C(C)C)C(=O)SCC(Cl)=C(Cl)Cl\\nC=CCCC=C\\nc2ccc1[nH]ccc1c2\\nCC34CCC1C(CCC2=CC(=O)CCC12C)C3CCC4=O\\nCCCCC=C\\nCc1cccc(C)c1NC(=O)c2cc(c(Cl)cc2O)S(N)(=O)=O\\nCCC1CCCCC1\\nCCCCCCCC(=O)C\\nCOC(=O)Nc2nc1ccc(cc1[nH]2)C(=O)c3ccccc3\\nCC(C)OC(=O)Nc1cccc(Cl)c1\\nCCN2c1nc(Cl)ccc1N(C)C(=O)c3cccnc23 \\nCNC(=O)Oc1cccc2ccccc12\\nC#C\\nCc1cncc(C)c1\\nC1C=CCC=C1\\nCCOC(=O)N(C)C(=O)CSP(=S)(OCC)OCC\\nCC(O)c1ccccc1\\nCC(Cl)CCl\\nCCCC=C(CC)C=O\\nCCOP(=S)(OCC)SCCSCC\\nCC(=O)OC3(C)CCC4C2CCC1=CC(=O)CCC1(C)C2CCC34C \\nClc1ccc(cc1)c2c(Cl)cccc2Cl \\nFc1cccc(F)c1C(=O)NC(=O)Nc2ccc(Cl)cc2\\nOc1cc(Cl)ccc1Oc2ccc(Cl)cc2Cl\\nc1(C(=O)OCCCCCC(C)(C))c(C(=O)OCCCCCC(C)(C))cccc1\\nCC12CC(O)C3C(CCC4=CC(=O)CCC34C)C2CCC1C(=O)CO\\nCc1cc(C)cc(C)c1\\nCCCCCCCCOC(=O)c1ccccc1C(=O)OCCCCCCCC \\nCCCCCCCCCCCCCCCO\\nClc1cccc(Cl)c1c2c(Cl)cccc2Cl \\nO=C1NC(=O)NC(=O)C1(C)C\\nCC(C)I\\nO=N(=O)c1ccccc1N(=O)=O\\nCC(C)C(=O)C\\nCCCCCCCCCCCCCCCC\\nCC12CCC(CC1)C(C)(C)O2\\nCc2cccc3sc1nncn1c23 \\nCCCCCCC(=O)C\\nCCCCCCCCC(=O)OC\\nFc1ccc(F)cc1\\nO=C1N(C2CCC(=O)NC2=O)C(=O)c3ccccc13\\nCCCN(CCC)c1c(cc(cc1N(=O)=O)C(F)(F)F)N(=O)=O\\nCCO\\nO=C2NC(=O)C1(CCCC1)C(=O)N2\\nc1c(NC(=O)OC(C)C(=O)NCC)cccc1\\nCC(C)=CC3C(C(=O)OCc2cccc(Oc1ccccc1)c2)C3(C)C \\nCN(C)C(=O)NC1CCCCCCC1\\nClC1(C2(Cl)C3(Cl)C4(Cl)C5(Cl)C1(Cl)C3(Cl)Cl)C5(Cl)C(Cl)(Cl)C24Cl\\nCCCCCCCCBr\\nCCCCNC(=O)n1c(NC(=O)OC)nc2ccccc12\\nCN(C)c2c(C)n(C)n(c1ccccc1)c2=O \\nCCC(O)CC\\nCc1ccc(cc1)N(=O)=O\\nCC(C)CCCO\\nCC34CCC1C(CCC2=CC(=O)CCC12O)C3CCC4(O)C#C\\nCC(C)OC(=O)C(O)(c1ccc(Br)cc1)c2ccc(Br)cc2 \\nNc2cnn(c1ccccc1)c(=O)c2Cl\\nCCC(C)(C)O\\nCc1ccc(O)cc1\\nCCOC=O\\nCN(C)c1ccccc1\\nC1CCC2CCCCC2C1\\nCCCCS\\nc1ccc2c(c1)c3cccc4ccc5cccc2c5c43\\nClC(=C(Cl)Cl)Cl\\nCCC(=O)CC\\nC=CC#N\\nCC1CC2C3CC(F)C4=CC(=O)C=CC4(C)C3(F)C(O)CC2(C)C1(O)C(=O)CO\\nCCCCC(=O)C\\nCCNc1nc(NC(C)(C)C)nc(OC)n1\\nCCCCC(C)CC\\nBrCCBr\\nCNC(=O)Oc1ccccc1C(C)C\\nO=C1NCCN1c2ncc(s2)N(=O)=O\\nC1c2ccccc2c3ccc4ccccc4c13\\nCOc1ccccc1Cl\\nCOP(=S)(OC)Oc1cc(Cl)c(Br)cc1Cl\\nClC(Cl)CC(=O)NC2=C(Cl)C(=O)c1ccccc1C2=O\\nClC(Cl)C(c1ccc(Cl)cc1)c2ccc(Cl)cc2 \\nCOC(=O)C=C\\nCN(C)C(=O)Nc2ccc(Oc1ccc(Cl)cc1)cc2\\nN(=Nc1ccccc1)c2ccccc2\\nCC(C)c1ccc(C)cc1\\nOc1c(Cl)cccc1Cl\\nOCC2OC(OC1(CO)OC(CO)C(O)C1O)C(O)C(O)C2O \\nOC1C(O)C(O)C(O)C(O)C1O\\nCn2c(=O)n(C)c1ncn(CC(O)CO)c1c2=O\\nOCC(NC(=O)C(Cl)Cl)C(O)c1ccc(cc1)N(=O)=O\\nCCC(O)(CC)CC\\nCC45CCC2C(CCC3CC1SC1CC23C)C4CCC5O\\nBrc1ccccc1Br\\nOc1c(Cl)cc(Cl)cc1Cl\\nCCCN(CCC)c1c(cc(cc1N(=O)=O)S(N)(=O)=O)N(=O)=O\\nC2c1ccccc1N(CCF)C(=O)c3ccccc23 \\nCC(C)C(=O)C(C)C\\nO=C1NC(=O)NC(=O)C1(C(C)C)CC=C(C)C\\nc1c(O)C2C(=O)C3cc(O)ccC3OC2cc1(OC)\\nCn1cnc2n(C)c(=O)n(C)c(=O)c12\\nCC(=O)SC4CC1=CC(=O)CCC1(C)C5CCC2(C)C(CCC23CCC(=O)O3)C45\\nCc1ccc(O)cc1C\\nO(c1ccccc1)c2ccccc2\\nClc1cc(Cl)c(cc1Cl)c2cc(Cl)c(Cl)cc2Cl \\nNC(=O)c1cccnc1 \\nSc1ccccc1\\nCNC(=O)Oc1cc(C)cc(C)c1\\nClC1CC2C(C1Cl)C3(Cl)C(=C(Cl)C2(Cl)C3(Cl)Cl)Cl\\nCSSC\\nNC(=O)c1ccccc1\\nClc1ccccc1Br\\nCOC(=O)c1ccccc1OC2OC(COC3OCC(O)C(O)C3O)C(O)C(O)C2O\\nCCCCC(O)CC\\nCCN2c1nc(C)cc(C)c1NC(=O)c3cccnc23 \\nOc1cc(Cl)cc(Cl)c1\\nCc1cccc2c1ccc3ccccc32\\nCCCCC(CC)CO\\nCC(C)N(C(C)C)C(=O)SCC(=CCl)Cl\\nCc1ccccc1\\nClc1cccc(n1)C(Cl)(Cl)Cl\\nC1CCC=CCC1\\nCN(C)C(=S)SSC(=S)N(C)C \\nCOC1=CC(=O)CC(C)C13Oc2c(Cl)c(OC)cc(OC)c2C3=O\\nCCCCCCCCCCO\\nCCC(C)(C)CC\\nCNC(=O)C(C)SCCSP(=O)(OC)(OC)\\nOc1cc(Cl)c(Cl)c(Cl)c1Cl\\nCCCC=O\\nCC4CC3C2CCC1=CC(=O)C=CC1(C)C2(F)C(O)CC3(C)C4(O)C(=O)COC(C)=O \\nCCCC\\nCOc1ccccc1O\\nCC1CC2C3CCC(O)(C(=O)C)C3(C)CC(O)C2(F)C4(C)C=CC(=O)C=C14\\nClC(Cl)C(Cl)(Cl)Cl\\nCCOC(=O)c1ccccc1C(=O)OCC\\nCC(C)CO\\nCC(C)Cc1ccccc1\\nICI\\nCCCC(O)CCC\\nCCCCCOC(=O)C\\nOc1c(Cl)c(Cl)cc(Cl)c1Cl\\nCCCc1ccccc1\\nFC(F)(Cl)C(F)(F)Cl\\nCC=CC=O\\nCN(C)C(=O)N(C)C \\nCc1cc(C)c(C)cc1C\\nCC(=O)OC3(CCC4C2CCC1=CC(=O)CCC1C2CCC34C)C#C\\nCCOP(=S)(OCC)N2C(=O)c1ccccc1C2=O\\nc1ccccc1NC(=O)c2c(O)cccc2\\nCCN(CC)C(=S)SCC(Cl)=C\\nClCC\\nCC(=O)Nc1cc(NS(=O)(=O)C(F)(F)F)c(C)cc1C\\nO=C(C=CC=Cc2ccc1OCOc1c2)N3CCCCC3\\nCC/C=C\\\\C\\nCNC(=O)ON=C(CSC)C(C)(C)C \\nO=C2NC(=O)C1(CCCCCCC1)C(=O)N2\\nc1(C(C)(C)C)cc(C(C)(C)C)cc(OC(=O)NC)c1\\nOc2cc(O)c1C(=O)CC(Oc1c2)c3ccc(O)c(O)c3\\nO=C(c1ccccc1)c2ccccc2\\nCCCCCCCCCCCCCCCCCCCC\\nN(Nc1ccccc1)c2ccccc2 \\nCCC(CC)CO\\nOc1ccncc1\\nCl\\\\C=C/Cl\\nCC1CCCC1\\nCC(C)CC(C)O\\nO2c1ccc(N)cc1N(C)C(=O)c3cc(C)ccc23 \\nCC(C)(C)CO\\nCC(C)(C)C(=O)C(Oc1ccc(Cl)cc1)n2cncn2\\nCc1cc(no1)C(=O)NNCc2ccccc2\\nCC=C\\nOc1ccc(Cl)cc1Cc2cc(Cl)ccc2O\\nCCOC(=O)Nc2cccc(OC(=O)Nc1ccccc1)c2 \\nO=C1c2ccccc2C(=O)c3ccccc13\\nCCCCCCC(C)O\\nCC1=C(C(=O)Nc2ccccc2)S(=O)(=O)CCO1\\nCCCCc1ccccc1\\nO=C1NC(=O)C(=O)N1 \\nCOP(=S)(OC)Oc1ccc(Sc2ccc(OP(=S)(OC)OC)cc2)cc1\\nNS(=O)(=O)c1cc(ccc1Cl)C2(O)NC(=O)c3ccccc23\\nCC(C)COC(=O)C\\nCC(C)C(C)(C)C\\nClc1ccc(c(Cl)c1Cl)c2c(Cl)cc(Cl)c(Cl)c2Cl \\nN#Cc1ccccc1C#N\\nCc1cccc(c1)N(=O)=O\\nFC(F)(F)C(Cl)Br \\nCNC(=O)ON=C(SC)C(=O)N(C)C\\nCCSCCSP(=S)(OC)OC\\nCCC(C)C\\nCOP(=O)(OC)OC(=CCl)c1cc(Cl)c(Cl)cc1Cl\\n'"
            ]
          },
          "metadata": {
            "tags": []
          },
          "execution_count": 137
        }
      ]
    },
    {
      "cell_type": "code",
      "metadata": {
        "id": "6WYX-MCZFoYj"
      },
      "source": [
        "# RNN model \n",
        "class RNN(nn.Module):\n",
        "    def __init__(self, input_size, hidden_size, num_layers, output_size):\n",
        "        super(RNN, self).__init__()\n",
        "        self.hidden_size = hidden_size\n",
        "        self.num_layers = num_layers\n",
        "        self.embed = nn.Embedding(input_size, hidden_size)\n",
        "        self.lstm = nn.LSTM(hidden_size, hidden_size, num_layers, batch_first=True)\n",
        "        self.fc = nn.Linear(hidden_size, output_size)\n",
        "\n",
        "    def forward(self, x, hidden, cell):\n",
        "        out = self.embed(x)\n",
        "        out, (hidden, cell) = self.lstm(out.unsqueeze(1), (hidden, cell))\n",
        "        out = self.fc(out.reshape(out.shape[0], -1))\n",
        "        return out, (hidden, cell)\n",
        "\n",
        "    def init_hidden(self, batch_size):\n",
        "        hidden = torch.zeros(self.num_layers, batch_size, self.hidden_size).to(device)\n",
        "        cell = torch.zeros(self.num_layers, batch_size, self.hidden_size).to(device)\n",
        "        return hidden, cell"
      ],
      "execution_count": 12,
      "outputs": []
    },
    {
      "cell_type": "code",
      "metadata": {
        "id": "geX5DW8UG5yq"
      },
      "source": [
        "# record loss function\n",
        "import time\n",
        "class Generator:\n",
        "    def __init__(self):\n",
        "        self.chunk_len = 250\n",
        "        self.num_epochs = 5000\n",
        "        self.batch_size = 1\n",
        "        self.print_every = 50\n",
        "        self.hidden_size = 256\n",
        "        self.num_layers = 2\n",
        "        self.lr = 0.003\n",
        "        self.rnn = RNN(n_characters, self.hidden_size, self.num_layers, n_characters).to(device)\n",
        "        self.temperature = 0.5\n",
        "    \n",
        "\n",
        "\n",
        "    def char_tensor(self, string):\n",
        "        tensor = torch.zeros(len(string)).long()\n",
        "        for c in range(len(string)):\n",
        "            tensor[c] = all_characters.index(string[c])\n",
        "        return tensor\n",
        "\n",
        "    def get_random_batch(self):\n",
        "        start_idx = random.randint(0, len(file) - self.chunk_len)\n",
        "        end_idx = start_idx + self.chunk_len + 1\n",
        "        text_str = file[start_idx:end_idx]\n",
        "        text_input = torch.zeros(self.batch_size, self.chunk_len)\n",
        "        text_target = torch.zeros(self.batch_size, self.chunk_len)\n",
        "\n",
        "        for i in range(self.batch_size):\n",
        "            text_input[i, :] = self.char_tensor(text_str[:-1])\n",
        "            text_target[i, :] = self.char_tensor(text_str[1:])\n",
        "\n",
        "        return text_input.long(), text_target.long()\n",
        "\n",
        "    def generate(self, initial_str=\"C\", predict_len=100):\n",
        "\n",
        "        hidden, cell = self.rnn.init_hidden(batch_size=self.batch_size)\n",
        "        initial_input = self.char_tensor(initial_str)\n",
        "        predicted = initial_str\n",
        "\n",
        "        for p in range(len(initial_str) - 1):\n",
        "            _, (hidden, cell) = self.rnn(\n",
        "                initial_input[p].view(1).to(device), hidden, cell\n",
        "            )\n",
        "\n",
        "        last_char = initial_input[-1]\n",
        "\n",
        "        for p in range(predict_len):\n",
        "            output, (hidden, cell) = self.rnn(\n",
        "                last_char.view(1).to(device), hidden, cell\n",
        "            )\n",
        "            output_dist = output.data.view(-1).div(self.temperature).exp()\n",
        "            top_char = torch.multinomial(output_dist, 1)[0]\n",
        "            predicted_char = all_characters[top_char]\n",
        "            predicted += predicted_char\n",
        "            last_char = self.char_tensor(predicted_char)\n",
        "\n",
        "        return predicted\n",
        "\n",
        "    # input_size, hidden_size, num_layers, output_size\n",
        "    def train(self):\n",
        "      torch.cuda.synchronize()\n",
        "      since = int(round(time.time()*1000))\n",
        "\n",
        "      optimizer = torch.optim.Adam(self.rnn.parameters(), lr=self.lr)\n",
        "      criterion = nn.CrossEntropyLoss()\n",
        "#       writer = SummaryWriter(f\"runs/names0\")  # for tensorboard\n",
        "\n",
        "      print(\"=> Starting training\")\n",
        "      with open('/content/drive/MyDrive/GoogleColab/LSTM_training_Loss_time_1000.csv','w') as outfile:\n",
        "        outfile.write('epoch,loss,time\\n')\n",
        "        for epoch in range(1, self.num_epochs + 1):\n",
        "\n",
        "          inp, target = self.get_random_batch()\n",
        "          hidden, cell = self.rnn.init_hidden(batch_size=self.batch_size)\n",
        "\n",
        "          self.rnn.zero_grad()\n",
        "          loss = 0\n",
        "          inp = inp.to(device)\n",
        "          target = target.to(device)\n",
        "\n",
        "          for c in range(self.chunk_len):\n",
        "              output, (hidden, cell) = self.rnn(inp[:, c], hidden, cell)\n",
        "              loss += criterion(output, target[:, c])\n",
        "\n",
        "          loss.backward()\n",
        "          optimizer.step()\n",
        "          loss = loss.item() / self.chunk_len\n",
        "          torch.cuda.synchronize()\n",
        "          time_elapsed = int(round(time.time()*1000)) - since\n",
        "          outfile.write(f'{epoch},{loss},{time_elapsed}\\n')\n",
        "\n",
        "        # if epoch % self.print_every == 0:\n",
        "        #     print(f\"Loss: {loss}\")\n",
        "        #     print(self.generate())\n",
        "\n",
        "\n",
        "    def check_accuracy(self):\n",
        "      with torch.no_grad():\n",
        "        Num_Accurate = 0\n",
        "        for epoch in range(1, 50 + 1):\n",
        "            inp, target = self.get_random_batch()\n",
        "            hidden, cell = self.rnn.init_hidden(batch_size=self.batch_size)\n",
        "            inp = inp.to(device)\n",
        "            target = target.to(device)\n",
        "            for c in range(self.chunk_len):\n",
        "              output, (hidden, cell) = self.rnn(inp[:, c], hidden, cell)\n",
        "              biggest_index = output.argmax(1)\n",
        "              if biggest_index == target[:,c]:\n",
        "                Num_Accurate+=1\n",
        "        print(Num_Accurate/(50*self.chunk_len))\n",
        "\n",
        "\n",
        "\n",
        " #           writer.add_scalar(\"Training loss\", loss, global_step=epoch)\n",
        "\n",
        "\n",
        "#gennames = Generator()\n",
        "#gennames.train()"
      ],
      "execution_count": 62,
      "outputs": []
    },
    {
      "cell_type": "code",
      "metadata": {
        "id": "CZ5tFhb4CrvN",
        "colab": {
          "base_uri": "https://localhost:8080/",
          "height": 181
        },
        "outputId": "e8552197-9926-48fb-e6de-ccd06d10430f"
      },
      "source": [
        "#saving the training data on google drive\n",
        "torch.save(gennames.rnn.state_dict(), \"/content/drive/MyDrive/GoogleColab/Generator\")"
      ],
      "execution_count": 14,
      "outputs": [
        {
          "output_type": "error",
          "ename": "NameError",
          "evalue": "ignored",
          "traceback": [
            "\u001b[0;31m---------------------------------------------------------------------------\u001b[0m",
            "\u001b[0;31mNameError\u001b[0m                                 Traceback (most recent call last)",
            "\u001b[0;32m<ipython-input-14-cd9b0aca38ba>\u001b[0m in \u001b[0;36m<module>\u001b[0;34m()\u001b[0m\n\u001b[1;32m      1\u001b[0m \u001b[0;31m#saving the training data on google drive\u001b[0m\u001b[0;34m\u001b[0m\u001b[0;34m\u001b[0m\u001b[0;34m\u001b[0m\u001b[0m\n\u001b[0;32m----> 2\u001b[0;31m \u001b[0mtorch\u001b[0m\u001b[0;34m.\u001b[0m\u001b[0msave\u001b[0m\u001b[0;34m(\u001b[0m\u001b[0mgennames\u001b[0m\u001b[0;34m.\u001b[0m\u001b[0mrnn\u001b[0m\u001b[0;34m.\u001b[0m\u001b[0mstate_dict\u001b[0m\u001b[0;34m(\u001b[0m\u001b[0;34m)\u001b[0m\u001b[0;34m,\u001b[0m \u001b[0;34m\"/content/drive/MyDrive/GoogleColab/Generator\"\u001b[0m\u001b[0;34m)\u001b[0m\u001b[0;34m\u001b[0m\u001b[0;34m\u001b[0m\u001b[0m\n\u001b[0m",
            "\u001b[0;31mNameError\u001b[0m: name 'gennames' is not defined"
          ]
        }
      ]
    },
    {
      "cell_type": "code",
      "metadata": {
        "colab": {
          "base_uri": "https://localhost:8080/",
          "height": 0
        },
        "id": "FWqt01CRDZ3b",
        "outputId": "86eec1d1-634b-485b-c380-c01041577159"
      },
      "source": [
        "# how to load it back\n",
        "model = Generator()\n",
        "model.rnn.load_state_dict(torch.load(\"/content/drive/MyDrive/GoogleColab/Generator\"))\n",
        "model.rnn.eval()"
      ],
      "execution_count": 63,
      "outputs": [
        {
          "output_type": "execute_result",
          "data": {
            "text/plain": [
              "RNN(\n",
              "  (embed): Embedding(100, 256)\n",
              "  (lstm): LSTM(256, 256, num_layers=2, batch_first=True)\n",
              "  (fc): Linear(in_features=256, out_features=100, bias=True)\n",
              ")"
            ]
          },
          "metadata": {
            "tags": []
          },
          "execution_count": 63
        }
      ]
    },
    {
      "cell_type": "code",
      "metadata": {
        "colab": {
          "base_uri": "https://localhost:8080/",
          "height": 0
        },
        "id": "UhiseshCR6IV",
        "outputId": "7cb63aee-8d91-46a7-db11-0efc0b9368c0"
      },
      "source": [
        "model.temperature"
      ],
      "execution_count": 56,
      "outputs": [
        {
          "output_type": "execute_result",
          "data": {
            "text/plain": [
              "0.1"
            ]
          },
          "metadata": {
            "tags": []
          },
          "execution_count": 56
        }
      ]
    },
    {
      "cell_type": "code",
      "metadata": {
        "colab": {
          "base_uri": "https://localhost:8080/",
          "height": 0
        },
        "id": "HZVrqdL0KKYp",
        "outputId": "70a0d93d-31f3-471c-d768-320ff8a58679"
      },
      "source": [
        "# check the accuracy of either the training or the testing data\n",
        "gennames.check_accuracy()"
      ],
      "execution_count": 138,
      "outputs": [
        {
          "output_type": "stream",
          "text": [
            "0.67336\n"
          ],
          "name": "stdout"
        }
      ]
    },
    {
      "cell_type": "code",
      "metadata": {
        "colab": {
          "base_uri": "https://localhost:8080/",
          "height": 35
        },
        "id": "pdSoqaj5RS7H",
        "outputId": "ee73741b-bb0a-44ec-b046-f693a5ba8037"
      },
      "source": [
        "# record the data generate by the model\n",
        "with open('/content/drive/MyDrive/GoogleColab/LSTMSmile_0.5.txt','w') as outfile:\n",
        "  for i in range(200):\n",
        "    outfile.write(f'{model.generate()[1:]}')\n",
        "model.generate()"
      ],
      "execution_count": 64,
      "outputs": [
        {
          "output_type": "execute_result",
          "data": {
            "application/vnd.google.colaboratory.intrinsic+json": {
              "type": "string"
            },
            "text/plain": [
              "'CCC(C)(C)O\\nO=C2NC(=O)C1(CCCCCC1)C(=O)N2\\nCC(C)C1CCC(C)C1CCC3C2CCC1=CC(=O)C=CC1(C)C2(F)C(O)CC34C)C(=O)O'"
            ]
          },
          "metadata": {
            "tags": []
          },
          "execution_count": 64
        }
      ]
    },
    {
      "cell_type": "code",
      "metadata": {
        "id": "LsUjDlQVD_eH",
        "colab": {
          "base_uri": "https://localhost:8080/",
          "height": 0
        },
        "outputId": "74cc4456-ef09-4d38-ce6a-74b3f8dfeadd"
      },
      "source": [
        "# Check how many smiles are valid smiles\n",
        "num_smile = 0\n",
        "with open('/content/drive/MyDrive/GoogleColab/LSTMSmile_0.5.txt','r') as infile:\n",
        "  with open('/content/drive/MyDrive/GoogleColab/LSTMRealSmile_0.5.txt','w') as outfile:\n",
        "    lines = infile.readlines()\n",
        "    for aline in lines:\n",
        "      asmile = aline.strip()\n",
        "      m = Chem.MolFromSmiles(asmile)\n",
        "      if m != None and asmile !='' :\n",
        "        outfile.write(aline)\n",
        "        num_smile+=1\n",
        "\n",
        "print(f'number of smiles: {num_smile}, number of total string: {len(lines)}, {num_smile/len(lines)}')"
      ],
      "execution_count": 65,
      "outputs": [
        {
          "output_type": "stream",
          "text": [
            "number of smiles: 658, number of total string: 868, 0.7580645161290323\n"
          ],
          "name": "stdout"
        }
      ]
    },
    {
      "cell_type": "code",
      "metadata": {
        "colab": {
          "base_uri": "https://localhost:8080/"
        },
        "id": "VUiMbv8gy0_d",
        "outputId": "beb5fb23-15d7-44c6-fe76-f4199c68097d"
      },
      "source": [
        "# check for overlap between the training and the generating using PCA\n",
        "import torch\n",
        "from sklearn.decomposition import PCA\n",
        "pca = PCA(n_components=2)\n",
        "\n",
        "x = torch.tensor([[1,2,3],[4,5,6],[7,8,9],[7,8,9]])\n",
        "principalComponents = pca.fit_transform(x)\n"
      ],
      "execution_count": null,
      "outputs": [
        {
          "output_type": "execute_result",
          "data": {
            "text/plain": [
              "array([[ 6.49519053e+00,  3.41647519e-16],\n",
              "       [ 1.29903811e+00, -6.12811374e-17],\n",
              "       [-3.89711432e+00,  2.74492743e-16],\n",
              "       [-3.89711432e+00,  2.74492743e-16]])"
            ]
          },
          "metadata": {
            "tags": []
          },
          "execution_count": 6
        }
      ]
    },
    {
      "cell_type": "code",
      "metadata": {
        "colab": {
          "base_uri": "https://localhost:8080/",
          "height": 0
        },
        "id": "n8z9Fj4jtSjB",
        "outputId": "2f357cd5-6986-4eaa-e5bd-ba7c88335c59"
      },
      "source": [
        "# check similarity\n",
        "with open(\"/content/drive/MyDrive/GoogleColab/smile.txt\",'r') as training, open(\"/content/drive/MyDrive/GoogleColab/LSTMRealSmile_0.95.txt\",'r') as outfile, open(\"/content/drive/MyDrive/GoogleColab/LSTMNewSmile_0.95.txt\",'w') as writefile:\n",
        "  max_char = 0\n",
        "  train = training.readlines()\n",
        "  out = outfile.readlines()\n",
        "  train_set = set(train)\n",
        "  out_set = set(out)\n",
        "  same_num = len(out)-len(out_set)\n",
        "  overlap_num = len(train_set.intersection(out_set))\n",
        "  new = out_set-train_set\n",
        "  for anew in new:\n",
        "    writefile.write(anew)\n",
        "  for aline in train:\n",
        "    length = len(aline.strip())\n",
        "    if length > max_char:\n",
        "      max_char = length\n",
        "  for aline in out:\n",
        "    length = len(aline.strip())\n",
        "    if length > max_char:\n",
        "      max_char = length\n",
        "  print(f\"out of {len(out)}, {same_num} duplicate, {overlap_num} overlap, {len(new)} new, {max_char} max\")"
      ],
      "execution_count": 73,
      "outputs": [
        {
          "output_type": "stream",
          "text": [
            "out of 550, 138 duplicate, 225 overlap, 187 new, 97 max\n"
          ],
          "name": "stdout"
        }
      ]
    },
    {
      "cell_type": "code",
      "metadata": {
        "id": "qkNd7-8JDyAB"
      },
      "source": [
        "# principle component analysis \n",
        "\n",
        "training_tensor = torch.zeros((len(train),max_char)).long()\n",
        "out_tensor = torch.zeros((len(out),max_char)).long()\n",
        "for i in range(len(train)):\n",
        "  training_tensor[i,:len(train[i].strip())]=Generator().char_tensor(string = train[i].strip())\n",
        "for i in range(len(out)):\n",
        "  out_tensor[i,:len(out[i].strip())] = Generator().char_tensor(string = out[i].strip())\n"
      ],
      "execution_count": 143,
      "outputs": []
    },
    {
      "cell_type": "code",
      "metadata": {
        "colab": {
          "base_uri": "https://localhost:8080/",
          "height": 281
        },
        "id": "ROVSHnjBPO2n",
        "outputId": "bbb4f9bf-b687-4520-ed59-946e10144498"
      },
      "source": [
        "from sklearn.decomposition import PCA\n",
        "pca = PCA(n_components=2)\n",
        "principalComponents_training = pca.fit_transform(training_tensor)\n",
        "principalComponents_out = pca.fit_transform(out_tensor)\n",
        "\n",
        "plt.scatter(principalComponents_training[:,0],principalComponents_training[:,1],label = 'Train')\n",
        "plt.scatter(principalComponents_out[:,0],principalComponents_out[:,1], label = 'Generated')\n",
        "plt.legend()\n",
        "plt.title('PCA of training and generated data')\n",
        "plt.savefig('/content/drive/MyDrive/GoogleColab/PCA.png')\n",
        "\n"
      ],
      "execution_count": 144,
      "outputs": [
        {
          "output_type": "display_data",
          "data": {
            "image/png": "[encoded data removed]",
            "text/plain": [
              "<Figure size 432x288 with 1 Axes>"
            ]
          },
          "metadata": {
            "tags": [],
            "needs_background": "light"
          }
        }
      ]
    },
    {
      "cell_type": "code",
      "metadata": {
        "id": "V-b4X5ljtYeM"
      },
      "source": [
        ""
      ],
      "execution_count": null,
      "outputs": []
    },
    {
      "cell_type": "code",
      "metadata": {
        "colab": {
          "base_uri": "https://localhost:8080/",
          "height": 480
        },
        "id": "zMs5EqoIkFuF",
        "outputId": "d02ac2a9-406c-4384-8787-4f3079f16c0c"
      },
      "source": [
        "# Plotting loss and time for Autoencoder\n",
        "import pandas as pd\n",
        "import matplotlib.pyplot as plt\n",
        "name=\"/content/drive/MyDrive/GoogleColab/loss_time.csv\"\n",
        "data = pd.read_csv(name)\n",
        "fig, ax = plt.subplots()\n",
        "x=data['Iteration']\n",
        "y=data['loss']\n",
        "z = data['time']\n",
        "plt.plot(x,y)\n",
        "plt.xlabel(\"Epoches\")\n",
        "plt.ylabel(\"Loss\")\n",
        "plt.title(\"AutoEncoder Loss\")\n",
        "plt.savefig('/content/drive/MyDrive/GoogleColab/AutoEncoderLoss.jpg')\n",
        "ztotal = [sum(z[:i]) for i in range(len(z))]\n",
        "\n",
        "print(sum(z)/len(z))\n"
      ],
      "execution_count": null,
      "outputs": [
        {
          "output_type": "error",
          "ename": "TypeError",
          "evalue": "ignored",
          "traceback": [
            "\u001b[0;31m---------------------------------------------------------------------------\u001b[0m",
            "\u001b[0;31mTypeError\u001b[0m                                 Traceback (most recent call last)",
            "\u001b[0;32m<ipython-input-45-d8dec56cc972>\u001b[0m in \u001b[0;36m<module>\u001b[0;34m()\u001b[0m\n\u001b[1;32m      8\u001b[0m \u001b[0mz\u001b[0m \u001b[0;34m=\u001b[0m \u001b[0mdata\u001b[0m\u001b[0;34m[\u001b[0m\u001b[0;34m'time'\u001b[0m\u001b[0;34m]\u001b[0m\u001b[0;34m\u001b[0m\u001b[0;34m\u001b[0m\u001b[0m\n\u001b[1;32m      9\u001b[0m \u001b[0mplt\u001b[0m\u001b[0;34m.\u001b[0m\u001b[0mplot\u001b[0m\u001b[0;34m(\u001b[0m\u001b[0mx\u001b[0m\u001b[0;34m,\u001b[0m\u001b[0my\u001b[0m\u001b[0;34m)\u001b[0m\u001b[0;34m\u001b[0m\u001b[0;34m\u001b[0m\u001b[0m\n\u001b[0;32m---> 10\u001b[0;31m \u001b[0mplt\u001b[0m\u001b[0;34m.\u001b[0m\u001b[0mxlabel\u001b[0m\u001b[0;34m(\u001b[0m\u001b[0;34m\"Epoches\"\u001b[0m\u001b[0;34m)\u001b[0m\u001b[0;34m\u001b[0m\u001b[0;34m\u001b[0m\u001b[0m\n\u001b[0m\u001b[1;32m     11\u001b[0m \u001b[0mplt\u001b[0m\u001b[0;34m.\u001b[0m\u001b[0mylabel\u001b[0m\u001b[0;34m(\u001b[0m\u001b[0;34m\"Loss\"\u001b[0m\u001b[0;34m)\u001b[0m\u001b[0;34m\u001b[0m\u001b[0;34m\u001b[0m\u001b[0m\n\u001b[1;32m     12\u001b[0m \u001b[0mplt\u001b[0m\u001b[0;34m.\u001b[0m\u001b[0mtitle\u001b[0m\u001b[0;34m(\u001b[0m\u001b[0;34m\"AutoEncoder Loss\"\u001b[0m\u001b[0;34m)\u001b[0m\u001b[0;34m\u001b[0m\u001b[0;34m\u001b[0m\u001b[0m\n",
            "\u001b[0;31mTypeError\u001b[0m: 'str' object is not callable"
          ]
        },
        {
          "output_type": "display_data",
          "data": {
            "image/png": "[encoded data removed]",
            "text/plain": [
              "<Figure size 432x288 with 1 Axes>"
            ]
          },
          "metadata": {
            "tags": [],
            "needs_background": "light"
          }
        }
      ]
    },
    {
      "cell_type": "code",
      "metadata": {
        "colab": {
          "base_uri": "https://localhost:8080/",
          "height": 232
        },
        "id": "6vBuoGXZGIAc",
        "outputId": "9c153c69-323b-480d-815a-91044b8f8001"
      },
      "source": [
        "plt.plot(x,ztotal)\n",
        "plt.title(\"AutoEncoder Time\")\n",
        "plt.xlabel(\"Epoches\")\n",
        "plt.ylabel(\"Time\")\n",
        "plt.savefig('/content/drive/MyDrive/GoogleColab/AutoEncoderTime.jpg')"
      ],
      "execution_count": null,
      "outputs": [
        {
          "output_type": "error",
          "ename": "NameError",
          "evalue": "ignored",
          "traceback": [
            "\u001b[0;31m---------------------------------------------------------------------------\u001b[0m",
            "\u001b[0;31mNameError\u001b[0m                                 Traceback (most recent call last)",
            "\u001b[0;32m<ipython-input-44-b7dd297fd44f>\u001b[0m in \u001b[0;36m<module>\u001b[0;34m()\u001b[0m\n\u001b[0;32m----> 1\u001b[0;31m \u001b[0mplt\u001b[0m\u001b[0;34m.\u001b[0m\u001b[0mplot\u001b[0m\u001b[0;34m(\u001b[0m\u001b[0mx\u001b[0m\u001b[0;34m,\u001b[0m\u001b[0mztotal\u001b[0m\u001b[0;34m)\u001b[0m\u001b[0;34m\u001b[0m\u001b[0;34m\u001b[0m\u001b[0m\n\u001b[0m\u001b[1;32m      2\u001b[0m \u001b[0mplt\u001b[0m\u001b[0;34m.\u001b[0m\u001b[0mtitle\u001b[0m\u001b[0;34m(\u001b[0m\u001b[0;34m\"AutoEncoder Time\"\u001b[0m\u001b[0;34m)\u001b[0m\u001b[0;34m\u001b[0m\u001b[0;34m\u001b[0m\u001b[0m\n\u001b[1;32m      3\u001b[0m \u001b[0mplt\u001b[0m\u001b[0;34m.\u001b[0m\u001b[0mxlabel\u001b[0m\u001b[0;34m(\u001b[0m\u001b[0;34m\"Epoches\"\u001b[0m\u001b[0;34m)\u001b[0m\u001b[0;34m\u001b[0m\u001b[0;34m\u001b[0m\u001b[0m\n\u001b[1;32m      4\u001b[0m \u001b[0mplt\u001b[0m\u001b[0;34m.\u001b[0m\u001b[0mylabel\u001b[0m\u001b[0;34m(\u001b[0m\u001b[0;34m\"Time\"\u001b[0m\u001b[0;34m)\u001b[0m\u001b[0;34m\u001b[0m\u001b[0;34m\u001b[0m\u001b[0m\n\u001b[1;32m      5\u001b[0m \u001b[0mplt\u001b[0m\u001b[0;34m.\u001b[0m\u001b[0msavefig\u001b[0m\u001b[0;34m(\u001b[0m\u001b[0;34m'/content/drive/MyDrive/GoogleColab/AutoEncoderTime.jpg'\u001b[0m\u001b[0;34m)\u001b[0m\u001b[0;34m\u001b[0m\u001b[0;34m\u001b[0m\u001b[0m\n",
            "\u001b[0;31mNameError\u001b[0m: name 'ztotal' is not defined"
          ]
        }
      ]
    },
    {
      "cell_type": "code",
      "metadata": {
        "colab": {
          "base_uri": "https://localhost:8080/",
          "height": 295
        },
        "id": "1qxITl1Ao5Lw",
        "outputId": "c81f9493-fecf-49c2-9d10-5df5dc2a670d"
      },
      "source": [
        "# Plotting loss and time for LSTM\n",
        "import pandas as pd\n",
        "import matplotlib.pyplot as plt\n",
        "name=\"/content/drive/MyDrive/GoogleColab/LSTM_Loss_time.csv\"\n",
        "data = pd.read_csv(name)\n",
        "fig, ax = plt.subplots()\n",
        "x=data['epoch']\n",
        "y=data['loss']\n",
        "z = data['time']\n",
        "plt.plot(x,y)\n",
        "plt.xlabel(\"Epoches\")\n",
        "plt.ylabel(\"Loss\")\n",
        "plt.title(\"LSTM Loss\")\n",
        "plt.savefig('/content/drive/MyDrive/GoogleColab/LSTM_Loss.jpg')\n",
        "\n",
        "\n"
      ],
      "execution_count": null,
      "outputs": [
        {
          "output_type": "display_data",
          "data": {
            "image/png": "[encoded data removed]",
            "text/plain": [
              "<Figure size 432x288 with 1 Axes>"
            ]
          },
          "metadata": {
            "tags": [],
            "needs_background": "light"
          }
        }
      ]
    },
    {
      "cell_type": "code",
      "metadata": {
        "colab": {
          "base_uri": "https://localhost:8080/",
          "height": 232
        },
        "id": "EeUMsV8AyXjL",
        "outputId": "ac1ec883-6aec-401a-e018-24d8c9a7bd81"
      },
      "source": [
        "plt.plot(x,z)\n",
        "plt.title(\"LSTM Time\")\n",
        "plt.xlabel(\"Epoches\")\n",
        "plt.ylabel(\"Time\")\n",
        "plt.savefig('/content/drive/MyDrive/GoogleColab/LSTM_Time.jpg')"
      ],
      "execution_count": null,
      "outputs": [
        {
          "output_type": "error",
          "ename": "NameError",
          "evalue": "ignored",
          "traceback": [
            "\u001b[0;31m---------------------------------------------------------------------------\u001b[0m",
            "\u001b[0;31mNameError\u001b[0m                                 Traceback (most recent call last)",
            "\u001b[0;32m<ipython-input-41-d1a1b76aac92>\u001b[0m in \u001b[0;36m<module>\u001b[0;34m()\u001b[0m\n\u001b[0;32m----> 1\u001b[0;31m \u001b[0mplt\u001b[0m\u001b[0;34m.\u001b[0m\u001b[0mplot\u001b[0m\u001b[0;34m(\u001b[0m\u001b[0mx\u001b[0m\u001b[0;34m,\u001b[0m\u001b[0mz\u001b[0m\u001b[0;34m)\u001b[0m\u001b[0;34m\u001b[0m\u001b[0;34m\u001b[0m\u001b[0m\n\u001b[0m\u001b[1;32m      2\u001b[0m \u001b[0mplt\u001b[0m\u001b[0;34m.\u001b[0m\u001b[0mtitle\u001b[0m\u001b[0;34m(\u001b[0m\u001b[0;34m\"LSTM Time\"\u001b[0m\u001b[0;34m)\u001b[0m\u001b[0;34m\u001b[0m\u001b[0;34m\u001b[0m\u001b[0m\n\u001b[1;32m      3\u001b[0m \u001b[0mplt\u001b[0m\u001b[0;34m.\u001b[0m\u001b[0mxlabel\u001b[0m\u001b[0;34m(\u001b[0m\u001b[0;34m\"Epoches\"\u001b[0m\u001b[0;34m)\u001b[0m\u001b[0;34m\u001b[0m\u001b[0;34m\u001b[0m\u001b[0m\n\u001b[1;32m      4\u001b[0m \u001b[0mplt\u001b[0m\u001b[0;34m.\u001b[0m\u001b[0mylabel\u001b[0m\u001b[0;34m(\u001b[0m\u001b[0;34m\"Time\"\u001b[0m\u001b[0;34m)\u001b[0m\u001b[0;34m\u001b[0m\u001b[0;34m\u001b[0m\u001b[0m\n\u001b[1;32m      5\u001b[0m \u001b[0mplt\u001b[0m\u001b[0;34m.\u001b[0m\u001b[0msavefig\u001b[0m\u001b[0;34m(\u001b[0m\u001b[0;34m'/content/drive/MyDrive/GoogleColab/LSTM_Time.jpg'\u001b[0m\u001b[0;34m)\u001b[0m\u001b[0;34m\u001b[0m\u001b[0;34m\u001b[0m\u001b[0m\n",
            "\u001b[0;31mNameError\u001b[0m: name 'x' is not defined"
          ]
        }
      ]
    },
    {
      "cell_type": "code",
      "metadata": {
        "colab": {
          "base_uri": "https://localhost:8080/",
          "height": 295
        },
        "id": "Ax7IwD7VQRUy",
        "outputId": "d2b78fa3-508c-4ec3-b7a7-d82ff245bf94"
      },
      "source": [
        "# Plotting validation for Autoencoder\n",
        "epochs = [0,500,1000,1500,2000]\n",
        "correct_training = [0,0,7.21,10.2,10.53]\n",
        "smile_training = [0,0.89,10.09,11.53,11.42]\n",
        "correct_testing = [0,0,5.75,7.52,7.52]\n",
        "smile_testing = [0,0.11,13.72,15.93,13.27]\n",
        "plt.xlabel(\"Epochs\")\n",
        "plt.ylabel(\"Percentage\")\n",
        "plt.plot(epochs,correct_testing,label = 'Correct')\n",
        "plt.plot(epochs,smile_testing,label = 'Smile')\n",
        "plt.legend()\n",
        "plt.title('Testing Data')\n",
        "plt.savefig(\"/content/drive/MyDrive/GoogleColab/AutoencoderTesting.png\")"
      ],
      "execution_count": null,
      "outputs": [
        {
          "output_type": "display_data",
          "data": {
            "image/png": "[encoded data removed]",
            "text/plain": [
              "<Figure size 432x288 with 1 Axes>"
            ]
          },
          "metadata": {
            "tags": [],
            "needs_background": "light"
          }
        }
      ]
    },
    {
      "cell_type": "code",
      "metadata": {
        "id": "bepDdVFJE_Gz",
        "colab": {
          "base_uri": "https://localhost:8080/",
          "height": 295
        },
        "outputId": "c0879e38-54e1-4066-b9f8-7b2eb6d91c67"
      },
      "source": [
        "# Ploting Validation for LSTM\n",
        "epochs = [0,1000,2000,3000,4000,5000]\n",
        "correct_training = [4.632,79.768,82.392,89.488,92.88,94.48]\n",
        "\n",
        "correct_testing = [4.808,69.968,69.632,69.904,67.432,67.336]\n",
        "\n",
        "plt.xlabel(\"Epochs\")\n",
        "plt.ylabel(\"Percentage\")\n",
        "plt.plot(epochs,correct_training,label = 'Training')\n",
        "plt.plot(epochs,correct_testing,label = 'Testing')\n",
        "plt.legend()\n",
        "plt.title('Correct Rate')\n",
        "plt.savefig(\"/content/drive/MyDrive/GoogleColab/LSTM_correct.png\")"
      ],
      "execution_count": 145,
      "outputs": [
        {
          "output_type": "display_data",
          "data": {
            "image/png": "[encoded data removed]",
            "text/plain": [
              "<Figure size 432x288 with 1 Axes>"
            ]
          },
          "metadata": {
            "tags": [],
            "needs_background": "light"
          }
        }
      ]
    },
    {
      "cell_type": "code",
      "metadata": {
        "colab": {
          "base_uri": "https://localhost:8080/",
          "height": 295
        },
        "id": "VlRs6ZiAYcXe",
        "outputId": "8f762b71-bbb8-4c27-e924-b7139d0e9ed9"
      },
      "source": [
        "epochs = [0,1000,2000,3000,4000,5000]\n",
        "smiles = [0.255,44.728,51.25,63.814,59.33, 71.94]\n",
        "plt.xlabel(\"Epochs\")\n",
        "plt.ylabel(\"Percentage\")\n",
        "\n",
        "plt.plot(epochs,smiles)\n",
        "\n",
        "plt.title('Legit SMILES generated rate')\n",
        "plt.savefig(\"/content/drive/MyDrive/GoogleColab/LSTM_smile.png\")"
      ],
      "execution_count": 147,
      "outputs": [
        {
          "output_type": "display_data",
          "data": {
            "image/png": "[encoded data removed]",
            "text/plain": [
              "<Figure size 432x288 with 1 Axes>"
            ]
          },
          "metadata": {
            "tags": [],
            "needs_background": "light"
          }
        }
      ]
    },
    {
      "cell_type": "code",
      "metadata": {
        "colab": {
          "base_uri": "https://localhost:8080/",
          "height": 295
        },
        "id": "fWJW8yc-wb3g",
        "outputId": "716883ca-d1d1-427c-ce7c-415a93c12109"
      },
      "source": [
        "temperature = [0.5,0.75,0.85,0.95]\n",
        "LegitSmiles = [76,67,67,64]\n",
        "NewSmiles = [19,32,33,34]\n",
        "plt.xlabel(\"temperature\")\n",
        "plt.ylabel(\"Percentage\")\n",
        "\n",
        "plt.plot(temperature,LegitSmiles,label = 'Legit SMILES')\n",
        "plt.plot(temperature,NewSmiles,label = 'New SMILES')\n",
        "plt.legend()\n",
        "plt.title('Legit SMILES and New SMILES')\n",
        "plt.savefig(\"/content/drive/MyDrive/GoogleColab/LSTM_temperature.png\")"
      ],
      "execution_count": 74,
      "outputs": [
        {
          "output_type": "display_data",
          "data": {
            "image/png": "[encoded data removed]",
            "text/plain": [
              "<Figure size 432x288 with 1 Axes>"
            ]
          },
          "metadata": {
            "tags": [],
            "needs_background": "light"
          }
        }
      ]
    },
    {
      "cell_type": "code",
      "metadata": {
        "colab": {
          "base_uri": "https://localhost:8080/",
          "height": 0
        },
        "id": "pjyqxI6pYp-P",
        "outputId": "92f09925-4bcb-4388-91ba-e30836871974"
      },
      "source": [
        "# Data Preparation for autoencoder without padding\n",
        "# The results without padding is as bad as with padding so it's not further investigated\n",
        "#creat a list that contains all the character in the database\n",
        "import numpy as np\n",
        "from sklearn.preprocessing import OneHotEncoder\n",
        "allCharacter = []\n",
        "lengthOfSmiles = []\n",
        "for i in range(data.len()):\n",
        "  allCharacter.extend(list(data[i].smiles.strip()))\n",
        "  lengthOfSmiles.append(len(list(data[i].smiles.strip()))) \n",
        "\n",
        "TypeOfCharacter_noE = np.unique(allCharacter)\n",
        "TypeOfCharacter = np.append(TypeOfCharacter_noE,['\\n'])\n",
        "print(TypeOfCharacter)\n",
        "print(max(lengthOfSmiles),min(lengthOfSmiles), sum(lengthOfSmiles)/len(lengthOfSmiles))\n",
        "print(lengthOfSmiles.index(97))\n",
        "print(data[934].smiles)\n",
        "\n",
        "# Convert character to one hot encoding \n",
        "import numpy as np\n",
        "from sklearn.preprocessing import OneHotEncoder\n",
        "One_Hot_Enc = OneHotEncoder(sparse=False)\n",
        "X = np.array(TypeOfCharacter).reshape(TypeOfCharacter.shape[0],1)\n",
        "One_Hot_Enc.fit(X)\n",
        "\n",
        "test = One_Hot_Enc.transform(np.array([['C']]))\n",
        "print(test)\n",
        "One_Hot_Enc.inverse_transform(np.zeros((3,TypeOfCharacter.shape[0])))\n",
        "with open('test.txt','w') as outfile:\n",
        "  for item in One_Hot_Enc.inverse_transform(np.zeros((3,TypeOfCharacter.shape[0]))):\n",
        "    outfile.write(item.item())\n",
        "  \n",
        "\n"
      ],
      "execution_count": 66,
      "outputs": [
        {
          "output_type": "stream",
          "text": [
            "['#' '(' ')' '/' '1' '2' '3' '4' '5' '6' '7' '8' '=' 'B' 'C' 'F' 'H' 'I'\n",
            " 'N' 'O' 'P' 'S' '[' '\\\\' ']' 'c' 'l' 'n' 'o' 'r' 's' '\\n']\n",
            "97 1 22.32712765957447\n",
            "555\n",
            "C\n",
            "[[0. 0. 0. 0. 0. 0. 0. 0. 0. 0. 0. 0. 0. 0. 0. 1. 0. 0. 0. 0. 0. 0. 0. 0.\n",
            "  0. 0. 0. 0. 0. 0. 0. 0.]]\n"
          ],
          "name": "stdout"
        }
      ]
    },
    {
      "cell_type": "code",
      "metadata": {
        "colab": {
          "base_uri": "https://localhost:8080/",
          "height": 0
        },
        "id": "lVHf7ufKVs9U",
        "outputId": "749d90f5-4278-417b-a99f-c05fdd5c35f9"
      },
      "source": [
        "training_data =[]\n",
        "with open('/content/drive/MyDrive/GoogleColab/smile_training.txt','r') as infile:\n",
        "  lines = infile.readlines()\n",
        "  onehotlistTraining = []\n",
        "  One_Hot_Enc_n = One_Hot_Enc.transform(np.array([['\\n']]))\n",
        "  for aline in lines:\n",
        "    aline = aline.strip()\n",
        "    for char in aline:\n",
        "      alineOneHot = One_Hot_Enc.transform(np.array([[char]]))\n",
        "      onehotlistTraining.append(alineOneHot)\n",
        "\n",
        "    onehotlistTraining.append(One_Hot_Enc_n)\n",
        "\n",
        "print(len(onehotlistTraining))\n",
        "\n",
        "    \n",
        "\n"
      ],
      "execution_count": 67,
      "outputs": [
        {
          "output_type": "stream",
          "text": [
            "21051\n"
          ],
          "name": "stdout"
        }
      ]
    },
    {
      "cell_type": "code",
      "metadata": {
        "id": "5VM9JZeSe8Jz"
      },
      "source": [
        "import random\n",
        "import torch\n",
        "chunk_length = 250\n",
        "\n",
        "def input_generator(chunk_length):\n",
        "  start_ind = random.randint(0, len(onehotlistTraining) - chunk_length)\n",
        "  input = onehotlistTraining[start_ind:start_ind+chunk_length]\n",
        "  return torch.tensor(input)"
      ],
      "execution_count": 68,
      "outputs": []
    },
    {
      "cell_type": "code",
      "metadata": {
        "colab": {
          "base_uri": "https://localhost:8080/",
          "height": 0
        },
        "id": "1G1EFkGRjz7O",
        "outputId": "b5087cf1-44ab-4bdf-f9dd-7ccc5105791e"
      },
      "source": [
        "input_test = input_generator(chunk_length)\n",
        "input_test.shape"
      ],
      "execution_count": 69,
      "outputs": [
        {
          "output_type": "execute_result",
          "data": {
            "text/plain": [
              "torch.Size([250, 1, 32])"
            ]
          },
          "metadata": {
            "tags": []
          },
          "execution_count": 69
        }
      ]
    },
    {
      "cell_type": "code",
      "metadata": {
        "colab": {
          "base_uri": "https://localhost:8080/",
          "height": 0
        },
        "id": "MrJg2Q-_jKeo",
        "outputId": "45b0fbfe-1701-4b18-bf56-5ef956790150"
      },
      "source": [
        "import torch.nn as nn\n",
        "from PIL import Image\n",
        "import torch.optim as optim\n",
        "from torchvision import datasets\n",
        "import matplotlib.pyplot as plt\n",
        "gpu_id = 0\n",
        "device = torch.device(\"cuda:%d\" % (gpu_id) if torch.cuda.is_available() else \"cpu\")\n",
        "import copy\n",
        "\n",
        "\n",
        "class autoencoder_no_padding(nn.Module):\n",
        "    def __init__(self):\n",
        "\n",
        "        super(autoencoder_no_padding, self).__init__()\n",
        "        self.encoder = nn.Sequential(\n",
        "            nn.Linear(chunk_length*32, 100),\n",
        "            nn.ReLU(),\n",
        "            nn.Linear(100, 100),\n",
        "            nn.ReLU())\n",
        "        self.decoder = nn.Sequential(\n",
        "            nn.Linear(100, 100),\n",
        "            nn.ReLU(),\n",
        "            nn.Linear(100, chunk_length*32),\n",
        "            nn.ReLU())\n",
        "\n",
        "    def forward(self, x):\n",
        "      x = x.view(1,-1)\n",
        "      x = self.encoder(x)\n",
        "      x = self.decoder(x)\n",
        "      return x\n",
        "\n",
        "\n",
        "net_no_padding = autoencoder_no_padding().to(device)\n",
        "print(net_no_padding)\n",
        "\n",
        "init_weights = copy.deepcopy(net_no_padding.encoder[0].weight.data)"
      ],
      "execution_count": 70,
      "outputs": [
        {
          "output_type": "stream",
          "text": [
            "autoencoder_no_padding(\n",
            "  (encoder): Sequential(\n",
            "    (0): Linear(in_features=8000, out_features=100, bias=True)\n",
            "    (1): ReLU()\n",
            "    (2): Linear(in_features=100, out_features=100, bias=True)\n",
            "    (3): ReLU()\n",
            "  )\n",
            "  (decoder): Sequential(\n",
            "    (0): Linear(in_features=100, out_features=100, bias=True)\n",
            "    (1): ReLU()\n",
            "    (2): Linear(in_features=100, out_features=8000, bias=True)\n",
            "    (3): ReLU()\n",
            "  )\n",
            ")\n"
          ],
          "name": "stdout"
        }
      ]
    },
    {
      "cell_type": "code",
      "metadata": {
        "colab": {
          "base_uri": "https://localhost:8080/",
          "height": 0
        },
        "id": "7_N9g_c1hGKO",
        "outputId": "f569800d-e2e9-429b-8404-f9020259f2c4"
      },
      "source": [
        "# Training for autoencoder\n",
        "import time\n",
        "criterion = nn.MSELoss()\n",
        "optimizer = optim.SGD(net_no_padding.parameters(), lr=0.5, momentum=0.9)\n",
        "iterations = 1000000\n",
        "BatchSize = 64\n",
        "with open ('/content/drive/MyDrive/GoogleColab/loss_time_no_padding.txt','w') as outfile:\n",
        "\n",
        "  since = int(round(time.time()*1000))\n",
        "\n",
        "  for epoch in range(iterations):\n",
        "    torch.cuda.synchronize()\n",
        "    input = input_generator(chunk_length)\n",
        "    input = input.to(device = device)    \n",
        "    optimizer.zero_grad()\n",
        "    outputs = net_no_padding(input.float())\n",
        "    loss = criterion(outputs, input.view(1,-1).float())\n",
        "    loss.backward()\n",
        "    optimizer.step()\n",
        "    runningLoss = loss.item()\n",
        "    torch.cuda.synchronize()\n",
        "    time_elapsed = int(round(time.time()*1000)) - since\n",
        "#    print(f'{epoch+1},{runningLoss},{time_elapsed}')\n",
        "    outfile.write(f'{epoch+1},{runningLoss},{time_elapsed}\\n')\n",
        "print('Finished Training')"
      ],
      "execution_count": 78,
      "outputs": [
        {
          "output_type": "stream",
          "text": [
            "Finished Training\n"
          ],
          "name": "stdout"
        }
      ]
    },
    {
      "cell_type": "code",
      "metadata": {
        "colab": {
          "base_uri": "https://localhost:8080/",
          "height": 0
        },
        "id": "C1EjfreqcLWf",
        "outputId": "e2c3f955-6515-46fa-df4d-281586ab4bed"
      },
      "source": [
        "# separate encoder and decoder\n",
        "encoder_no_padding = nn.Sequential(*list(net_no_padding.children())[:-1])\n",
        "decoder_no_padding = nn.Sequential(*list(net_no_padding.children())[1:])\n",
        "encoder_no_padding\n"
      ],
      "execution_count": 72,
      "outputs": [
        {
          "output_type": "execute_result",
          "data": {
            "text/plain": [
              "Sequential(\n",
              "  (0): Sequential(\n",
              "    (0): Linear(in_features=8000, out_features=100, bias=True)\n",
              "    (1): ReLU()\n",
              "    (2): Linear(in_features=100, out_features=100, bias=True)\n",
              "    (3): ReLU()\n",
              "  )\n",
              ")"
            ]
          },
          "metadata": {
            "tags": []
          },
          "execution_count": 72
        }
      ]
    },
    {
      "cell_type": "code",
      "metadata": {
        "colab": {
          "base_uri": "https://localhost:8080/",
          "height": 0
        },
        "id": "17Rt8g7sqgiJ",
        "outputId": "2f370497-0fc7-4c05-ef19-06fe6bc97c0c"
      },
      "source": [
        "# Check the ouput of encoder\n",
        "\n",
        "with torch.no_grad():\n",
        "  input = input_generator(chunk_length).to(device=device)\n",
        "  outputs = net_no_padding(input.float())\n",
        "\n",
        "\n",
        "# outputs seems to be from 0 to 1 "
      ],
      "execution_count": 53,
      "outputs": [
        {
          "output_type": "stream",
          "text": [
            "tensor(0., device='cuda:0')\n"
          ],
          "name": "stdout"
        }
      ]
    },
    {
      "cell_type": "code",
      "metadata": {
        "id": "79ZF_3Z2s2P_"
      },
      "source": [
        "#Generate random input of dimension batchsize*100 from 0 to 1\n",
        "num_random_mole = 900\n",
        "randomInput = torch.rand(num_random_mole, 100)\n",
        "randomInput = randomInput.to(device = device)"
      ],
      "execution_count": 79,
      "outputs": []
    },
    {
      "cell_type": "code",
      "metadata": {
        "id": "ZR-hsuO8tH78"
      },
      "source": [
        "# Generate new molecules\n",
        "num_smile = 0\n",
        "with torch.no_grad():\n",
        "  outputs = decoder(randomInput)\n",
        "\n",
        "with open('/content/drive/MyDrive/GoogleColab/Generated_Smile_No_Padding.txt','w') as outfile:\n",
        "\n",
        "  for i in range(num_random_mole):\n",
        "    OneSmile = outputs[i].view(250,32)\n",
        "    OneSmileOneHot = torch.zeros_like(OneSmile)\n",
        "    predictions,index = OneSmile.max(1)\n",
        "    n_row = 0\n",
        "    for j in index:\n",
        "      OneSmileOneHot[n_row][j]=1\n",
        "      n_row+=1\n",
        "    Smiles = One_Hot_Enc.inverse_transform(OneSmileOneHot.cpu())\n",
        "    for item in Smiles:\n",
        "      outfile.write(item.item())\n",
        "\n",
        "\n",
        "\n",
        "\n"
      ],
      "execution_count": 80,
      "outputs": []
    },
    {
      "cell_type": "code",
      "metadata": {
        "colab": {
          "base_uri": "https://localhost:8080/",
          "height": 0
        },
        "id": "pMVRkzDS3sOt",
        "outputId": "6cd65640-6b5f-4c1c-ec80-b96a569a9373"
      },
      "source": [
        "# Check how many smiles are valid smiles\n",
        "num_smile = 0\n",
        "with open('/content/drive/MyDrive/GoogleColab/Generated_Smile_No_Padding.txt','r') as infile:\n",
        "  with open('/content/drive/MyDrive/GoogleColab/Generated_Real_Smile_No_Padding.txt','w') as outfile:\n",
        "    lines = infile.readlines()\n",
        "    for aline in lines:\n",
        "      asmile = aline.strip()\n",
        "      m = Chem.MolFromSmiles(asmile)\n",
        "      if m != None and asmile !='' :\n",
        "        outfile.write(aline)\n",
        "        num_smile+=1\n",
        "\n",
        "print(f'number of smiles: {num_smile}, number of total string: {len(lines)}, {num_smile/len(lines)}')"
      ],
      "execution_count": 81,
      "outputs": [
        {
          "output_type": "stream",
          "text": [
            "number of smiles: 45, number of total string: 5669, 0.007937907920268125\n"
          ],
          "name": "stdout"
        }
      ]
    },
    {
      "cell_type": "code",
      "metadata": {
        "id": "qJw-EpTz4-Qk"
      },
      "source": [
        "features = 16\n",
        "# define a simple linear VAE\n",
        "class LinearVAE(nn.Module):\n",
        "    def __init__(self):\n",
        "        super(LinearVAE, self).__init__()\n",
        " \n",
        "        # encoder\n",
        "        self.enc1 = nn.Linear(in_features=784, out_features=512)\n",
        "        self.enc2 = nn.Linear(in_features=512, out_features=features*2)\n",
        " \n",
        "        # decoder \n",
        "        self.dec1 = nn.Linear(in_features=features, out_features=512)\n",
        "        self.dec2 = nn.Linear(in_features=512, out_features=784)\n",
        "    def reparameterize(self, mu, log_var):\n",
        "        \"\"\"\n",
        "        :param mu: mean from the encoder's latent space\n",
        "        :param log_var: log variance from the encoder's latent space\n",
        "        \"\"\"\n",
        "        std = torch.exp(0.5*log_var) # standard deviation\n",
        "        eps = torch.randn_like(std) # `randn_like` as we need the same size\n",
        "        sample = mu + (eps * std) # sampling as if coming from the input space\n",
        "        return sample\n",
        " \n",
        "    def forward(self, x):\n",
        "        # encoding\n",
        "        x = F.relu(self.enc1(x))\n",
        "        x = self.enc2(x).view(-1, 2, features)\n",
        "        # get `mu` and `log_var`\n",
        "        mu = x[:, 0, :] # the first feature values as mean\n",
        "        log_var = x[:, 1, :] # the other feature values as variance\n",
        "        # get the latent vector through reparameterization\n",
        "        z = self.reparameterize(mu, log_var)\n",
        " \n",
        "        # decoding\n",
        "        x = F.relu(self.dec1(z))\n",
        "        reconstruction = torch.sigmoid(self.dec2(x))\n",
        "        return reconstruction, mu, log_var"
      ],
      "execution_count": null,
      "outputs": []
    }
  ]
}